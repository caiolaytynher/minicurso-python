{
 "cells": [
  {
   "cell_type": "markdown",
   "metadata": {},
   "source": [
    "# Fundamentos\n",
    "\n",
    "## Olá mundo!\n",
    "\n",
    "Equivalente em C\n",
    "\n",
    "```c\n",
    "#include <stdio.h>\n",
    "\n",
    "int main(void) {\n",
    "    printf(\"Hello world!\\n\");\n",
    "    return 0;\n",
    "}\n",
    "```\n"
   ]
  },
  {
   "cell_type": "code",
   "execution_count": 204,
   "metadata": {},
   "outputs": [
    {
     "name": "stdout",
     "output_type": "stream",
     "text": [
      "Hello world!\n"
     ]
    }
   ],
   "source": [
    "print(\"Hello world!\")"
   ]
  },
  {
   "cell_type": "markdown",
   "metadata": {},
   "source": [
    "## A função `print()`\n"
   ]
  },
  {
   "cell_type": "code",
   "execution_count": 205,
   "metadata": {},
   "outputs": [
    {
     "name": "stdout",
     "output_type": "stream",
     "text": [
      "Hello world!\n"
     ]
    }
   ],
   "source": [
    "print(\"Hello world!\")"
   ]
  },
  {
   "cell_type": "markdown",
   "metadata": {},
   "source": [
    "Equivalente em C\n",
    "\n",
    "```c\n",
    "#include <stdio.h>\n",
    "#include <stdbool.h>\n",
    "\n",
    "int main(void) {\n",
    "    printf(\"%d\\n\", 1);    // 1\n",
    "    printf(\"%f\\n\", 1.3);  // 1.3\n",
    "    printf(\"%d\\n\", true); // 1\n",
    "    return 0;\n",
    "}\n",
    "```\n"
   ]
  },
  {
   "cell_type": "code",
   "execution_count": 206,
   "metadata": {},
   "outputs": [
    {
     "name": "stdout",
     "output_type": "stream",
     "text": [
      "1\n",
      "1.3\n",
      "True\n"
     ]
    }
   ],
   "source": [
    "print(1)\n",
    "print(1.3)\n",
    "print(True)"
   ]
  },
  {
   "cell_type": "code",
   "execution_count": 207,
   "metadata": {},
   "outputs": [
    {
     "name": "stdout",
     "output_type": "stream",
     "text": [
      "um número 1\n",
      "1 + 1 é iqual a 2\n"
     ]
    }
   ],
   "source": [
    "print(\"um número\", 1)\n",
    "print(\"1 + 1 é iqual a\", 1 + 1)"
   ]
  },
  {
   "cell_type": "code",
   "execution_count": 208,
   "metadata": {},
   "outputs": [
    {
     "name": "stdout",
     "output_type": "stream",
     "text": [
      "1 2 3\n"
     ]
    }
   ],
   "source": [
    "print(1, 2, 3)"
   ]
  },
  {
   "cell_type": "code",
   "execution_count": 209,
   "metadata": {},
   "outputs": [
    {
     "name": "stdout",
     "output_type": "stream",
     "text": [
      "1\n",
      "2\n",
      "3\n"
     ]
    }
   ],
   "source": [
    "print(1)\n",
    "print(2)\n",
    "print(3)"
   ]
  },
  {
   "cell_type": "code",
   "execution_count": 210,
   "metadata": {},
   "outputs": [
    {
     "name": "stdout",
     "output_type": "stream",
     "text": [
      "1\n",
      "2\n",
      "3\n"
     ]
    }
   ],
   "source": [
    "print(1, 2, 3, sep=\"\\n\")"
   ]
  },
  {
   "cell_type": "code",
   "execution_count": 211,
   "metadata": {},
   "outputs": [
    {
     "name": "stdout",
     "output_type": "stream",
     "text": [
      "1, 2, 3\n"
     ]
    }
   ],
   "source": [
    "print(1, 2, 3, sep=\", \")"
   ]
  },
  {
   "cell_type": "code",
   "execution_count": 212,
   "metadata": {},
   "outputs": [
    {
     "name": "stdout",
     "output_type": "stream",
     "text": [
      "1 2 3\n"
     ]
    }
   ],
   "source": [
    "print(1, end=\" \")\n",
    "print(2, end=\" \")\n",
    "print(3)"
   ]
  },
  {
   "cell_type": "markdown",
   "metadata": {},
   "source": [
    "## Formatação de texto\n"
   ]
  },
  {
   "cell_type": "code",
   "execution_count": 213,
   "metadata": {},
   "outputs": [
    {
     "name": "stdout",
     "output_type": "stream",
     "text": [
      "número 1\n"
     ]
    }
   ],
   "source": [
    "print(f\"número {1}\")"
   ]
  },
  {
   "cell_type": "code",
   "execution_count": 214,
   "metadata": {},
   "outputs": [
    {
     "name": "stdout",
     "output_type": "stream",
     "text": [
      "1 + 1 = 2\n",
      "1 + 1 = 2\n"
     ]
    }
   ],
   "source": [
    "print(\n",
    "    f\"1 + 1 = {1 + 1}\",\n",
    "    f\"{1 + 1 = }\",\n",
    "    sep=\"\\n\",\n",
    ")"
   ]
  },
  {
   "cell_type": "code",
   "execution_count": 215,
   "metadata": {},
   "outputs": [
    {
     "name": "stdout",
     "output_type": "stream",
     "text": [
      "Um terço: 0.3333333333333333\n",
      "Um terço: 0.33\n",
      "1 / 3 = 0.33\n"
     ]
    }
   ],
   "source": [
    "print(\n",
    "    f\"Um terço: {1 / 3}\",\n",
    "    f\"Um terço: {1 / 3:.2f}\",\n",
    "    f\"{1 / 3 = :.2f}\",\n",
    "    sep=\"\\n\",\n",
    ")"
   ]
  },
  {
   "cell_type": "code",
   "execution_count": 216,
   "metadata": {},
   "outputs": [
    {
     "name": "stdout",
     "output_type": "stream",
     "text": [
      "1_000_000 = 1000000\n",
      "1e6 = 1000000.0\n",
      "1_000_000 = 1,000,000\n",
      "1_000_000 = 1.00e+06\n"
     ]
    }
   ],
   "source": [
    "# Tente remover os underlines (_) ou muda-los de lugar\n",
    "print(\n",
    "    f\"{1_000_000 = }\",\n",
    "    f\"{1e6 = }\",\n",
    "    f\"{1_000_000 = :,}\",\n",
    "    f\"{1_000_000 = :.2e}\",\n",
    "    sep=\"\\n\",\n",
    ")"
   ]
  },
  {
   "cell_type": "code",
   "execution_count": 217,
   "metadata": {},
   "outputs": [
    {
     "name": "stdout",
     "output_type": "stream",
     "text": [
      "18555e-6 = 0.018555\n",
      "18555e-6 = 1.86e-02\n"
     ]
    }
   ],
   "source": [
    "print(\n",
    "    f\"{18555e-6 = }\",\n",
    "    f\"{18555e-6 = :.2e}\",\n",
    "    sep=\"\\n\",\n",
    ")"
   ]
  },
  {
   "cell_type": "markdown",
   "metadata": {},
   "source": [
    "## Variáveis\n",
    "\n",
    "Equivalente em C\n",
    "\n",
    "```c\n",
    "int main(void) {\n",
    "    const char* text = \"Oi, eu sou um texto.\";\n",
    "    int number = 1;\n",
    "\n",
    "    return 0;\n",
    "}\n",
    "```\n"
   ]
  },
  {
   "cell_type": "code",
   "execution_count": 218,
   "metadata": {},
   "outputs": [
    {
     "name": "stdout",
     "output_type": "stream",
     "text": [
      "Oi, eu sou um texto.\n",
      "1\n",
      "1 Oi, eu sou um texto.\n"
     ]
    }
   ],
   "source": [
    "text = \"Oi, eu sou um texto.\"\n",
    "number = 1\n",
    "\n",
    "print(text)\n",
    "print(number)\n",
    "print(number, text)"
   ]
  },
  {
   "cell_type": "code",
   "execution_count": 219,
   "metadata": {},
   "outputs": [
    {
     "name": "stdout",
     "output_type": "stream",
     "text": [
      "Meu nome é Caio e eu tenho 22.\n"
     ]
    }
   ],
   "source": [
    "name = \"Caio\"\n",
    "age = 22\n",
    "print(f\"Meu nome é {name} e eu tenho {age}.\")"
   ]
  },
  {
   "cell_type": "code",
   "execution_count": 220,
   "metadata": {},
   "outputs": [
    {
     "name": "stdout",
     "output_type": "stream",
     "text": [
      "result = 0.33\n"
     ]
    }
   ],
   "source": [
    "result = 1 / 3\n",
    "print(f\"{result = :.2f}\")"
   ]
  },
  {
   "cell_type": "markdown",
   "metadata": {},
   "source": [
    "### Constantes"
   ]
  },
  {
   "cell_type": "code",
   "execution_count": 221,
   "metadata": {},
   "outputs": [
    {
     "name": "stdout",
     "output_type": "stream",
     "text": [
      "Antes: variable = 'variável'\n",
      "Depois: variable = 'outro valor'\n"
     ]
    }
   ],
   "source": [
    "variable = \"variável\"\n",
    "CONSTANT = \"constante\"  # Tente me redefinir\n",
    "\n",
    "print(f\"Antes: {variable = }\")\n",
    "variable = \"outro valor\"  # Redefinição de valor\n",
    "print(f\"Depois: {variable = }\")"
   ]
  },
  {
   "cell_type": "markdown",
   "metadata": {},
   "source": [
    "## Tipos de dados primitivos\n",
    "\n",
    "### Numéricos:\n",
    "\n",
    "- `int`: Números inteiros $\\mathbb{Z}$\n",
    "- `float`: Números racionais $\\mathbb{Q}$\n",
    "- `complex`: Números complexos $\\mathbb{C}$\n"
   ]
  },
  {
   "cell_type": "code",
   "execution_count": 222,
   "metadata": {},
   "outputs": [
    {
     "name": "stdout",
     "output_type": "stream",
     "text": [
      "Tipo:            <class 'int'>\n",
      "Adição:          a + b   = 5\n",
      "Subtração:       a - b   = -1\n",
      "Multiplicação:   a * b   = 6\n",
      "Potenciação:     a**b    = 8\n",
      "Divisão:         a / b   = 0.6666666666666666\n",
      "Divisão inteira: a // b  = 0\n",
      "Resto:           a % b   = 2\n"
     ]
    }
   ],
   "source": [
    "# Mude esses valores\n",
    "a = 2\n",
    "b = 3\n",
    "\n",
    "print(\n",
    "    f\"Tipo:            {type(a)}\",\n",
    "    f\"Adição:          {a + b   = }\",\n",
    "    f\"Subtração:       {a - b   = }\",\n",
    "    f\"Multiplicação:   {a * b   = }\",\n",
    "    f\"Potenciação:     {a**b    = }\",\n",
    "    f\"Divisão:         {a / b   = }\",\n",
    "    f\"Divisão inteira: {a // b  = }\",\n",
    "    f\"Resto:           {a % b   = }\",\n",
    "    sep=\"\\n\",\n",
    ")"
   ]
  },
  {
   "cell_type": "code",
   "execution_count": 223,
   "metadata": {},
   "outputs": [
    {
     "name": "stdout",
     "output_type": "stream",
     "text": [
      "Tipo:            <class 'float'>\n",
      "Adição:          a + b  = 5.5\n",
      "Subtração:       a - b  = -1.0999999999999996\n",
      "Multiplicação:   a * b  = 7.26\n",
      "Potenciação:     a**b   = 13.489468760533386\n",
      "Divisão:         a / b  = 0.6666666666666667\n",
      "Divisão inteira: a // b = 0.0\n",
      "Resto:           a % b  = 2.2\n"
     ]
    }
   ],
   "source": [
    "# Mude esses também\n",
    "a = 2.2\n",
    "b = 3.3\n",
    "\n",
    "print(\n",
    "    f\"Tipo:            {type(a)}\",\n",
    "    f\"Adição:          {a + b  = }\",\n",
    "    f\"Subtração:       {a - b  = }\",\n",
    "    f\"Multiplicação:   {a * b  = }\",\n",
    "    f\"Potenciação:     {a**b   = }\",\n",
    "    f\"Divisão:         {a / b  = }\",\n",
    "    f\"Divisão inteira: {a // b = }\",\n",
    "    f\"Resto:           {a % b  = }\",\n",
    "    sep=\"\\n\",\n",
    ")"
   ]
  },
  {
   "cell_type": "code",
   "execution_count": 224,
   "metadata": {},
   "outputs": [
    {
     "name": "stdout",
     "output_type": "stream",
     "text": [
      "Tipo:            <class 'complex'>\n",
      "Adição:          a + b  = (3.2+3.2j)\n",
      "Subtração:       a - b  = (-1.2000000000000002+1.2000000000000002j)\n",
      "Multiplicação:   a * b  = 5.840000000000001j\n",
      "Potenciação:     a**b   = (-2.1455412498205146-0.5660397724732915j)\n",
      "Divisão:         a / b  = (0.7534246575342465+0.6575342465753424j)\n"
     ]
    }
   ],
   "source": [
    "# Já sabe né?\n",
    "a = 1 + 2.2j\n",
    "b = 2.2 + 1j\n",
    "\n",
    "print(\n",
    "    f\"Tipo:            {type(a)}\",\n",
    "    f\"Adição:          {a + b  = }\",\n",
    "    f\"Subtração:       {a - b  = }\",\n",
    "    f\"Multiplicação:   {a * b  = }\",\n",
    "    f\"Potenciação:     {a**b   = }\",\n",
    "    f\"Divisão:         {a / b  = }\",\n",
    "    sep=\"\\n\",\n",
    ")"
   ]
  },
  {
   "cell_type": "markdown",
   "metadata": {},
   "source": [
    "### Textual: `str`"
   ]
  },
  {
   "cell_type": "code",
   "execution_count": 225,
   "metadata": {},
   "outputs": [
    {
     "name": "stdout",
     "output_type": "stream",
     "text": [
      "Sou um texto\n",
      "Sou um texto formatado 1\n",
      "Sou um texto cru {1}.\\n\n",
      "\n",
      "    Sou um texto\n",
      "    multi linha.\n",
      "    \n"
     ]
    }
   ],
   "source": [
    "print(\n",
    "    \"Sou um texto\",\n",
    "    f\"Sou um texto formatado {1}\",\n",
    "    r\"Sou um texto cru {1}.\\n\",\n",
    "    \"\"\"\n",
    "    Sou um texto\n",
    "    multi linha.\n",
    "    \"\"\",\n",
    "    sep=\"\\n\",\n",
    ")"
   ]
  },
  {
   "cell_type": "code",
   "execution_count": 226,
   "metadata": {},
   "outputs": [
    {
     "name": "stdout",
     "output_type": "stream",
     "text": [
      "<class 'str'>\n",
      "<class 'str'>\n",
      "<class 'str'>\n",
      "<class 'str'>\n"
     ]
    }
   ],
   "source": [
    "print(\n",
    "    type(\"Sou um texto\"),\n",
    "    type(f\"Sou um texto formatado {1}\"),\n",
    "    type(r\"Sou um texto cru {1}.\\n\"),\n",
    "    type(\n",
    "        \"\"\"\n",
    "        Sou um texto\n",
    "        multi linha.\n",
    "        \"\"\"\n",
    "    ),\n",
    "    sep=\"\\n\",\n",
    ")"
   ]
  },
  {
   "cell_type": "code",
   "execution_count": 227,
   "metadata": {},
   "outputs": [
    {
     "name": "stdout",
     "output_type": "stream",
     "text": [
      "um texto outro texto\n",
      "um texto um texto um texto \n"
     ]
    }
   ],
   "source": [
    "print(\n",
    "    \"um texto \" + \"outro texto\",\n",
    "    \"um texto \" * 3,\n",
    "    sep=\"\\n\",\n",
    ")"
   ]
  },
  {
   "cell_type": "markdown",
   "metadata": {},
   "source": [
    "### Lógico: `bool`\n",
    "\n",
    "Valores verdadeiros ou falsos. Abreviação de \"booleano\"."
   ]
  },
  {
   "cell_type": "code",
   "execution_count": 228,
   "metadata": {},
   "outputs": [
    {
     "name": "stdout",
     "output_type": "stream",
     "text": [
      "a = True, type(a) = <class 'bool'>\n",
      "b = False, type(b) = <class 'bool'>\n"
     ]
    }
   ],
   "source": [
    "a = True\n",
    "b = False\n",
    "\n",
    "print(\n",
    "    f\"{a = }, {type(a) = }\",\n",
    "    f\"{b = }, {type(b) = }\",\n",
    "    sep=\"\\n\",\n",
    ")"
   ]
  },
  {
   "cell_type": "markdown",
   "metadata": {},
   "source": [
    "### Coleções\n",
    "\n",
    "- `list`: listas\n",
    "- `set`: conjuntos\n",
    "- `tuple`: tupla (???)\n",
    "- `dict`: dicionários\n"
   ]
  },
  {
   "cell_type": "code",
   "execution_count": 229,
   "metadata": {},
   "outputs": [
    {
     "name": "stdout",
     "output_type": "stream",
     "text": [
      "items = [1, 1, 2.0, 'Caio', 'Caio', True], <class 'list'>\n",
      "unique_items = {1, 2.0, 'Caio'}, <class 'set'>\n",
      "user_info = ('Caio', 22), <class 'tuple'>\n",
      "user = {'name': 'Caio', 'age': 22}, <class 'dict'>\n"
     ]
    }
   ],
   "source": [
    "items = [1, 1, 2.0, \"Caio\", \"Caio\", True]  # Mutável, ordenado\n",
    "unique_items = {1, 1, 2.0, \"Caio\", \"Caio\", True}  # Mutável, desordenado\n",
    "user_info = (\"Caio\", 22)  # Imutável, ordenado\n",
    "user = {  # Mutável, pares de chave e valor\n",
    "    \"name\": \"Caio\",\n",
    "    \"age\": 22,\n",
    "}\n",
    "\n",
    "print(\n",
    "    f\"{items = }, {type(items)}\",\n",
    "    f\"{unique_items = }, {type(unique_items)}\",\n",
    "    f\"{user_info = }, {type(user_info)}\",\n",
    "    f\"{user = }, {type(user)}\",\n",
    "    sep=\"\\n\",\n",
    ")"
   ]
  },
  {
   "cell_type": "markdown",
   "metadata": {},
   "source": [
    "#### Como acessar os seus itens"
   ]
  },
  {
   "cell_type": "code",
   "execution_count": 230,
   "metadata": {},
   "outputs": [
    {
     "name": "stdout",
     "output_type": "stream",
     "text": [
      "characters[0] = 'a'\n",
      "characters[-1] = 'd'\n",
      "Antes: characters[1] = 'b'\n",
      "Depois: characters[1] = 'bazinga'\n"
     ]
    }
   ],
   "source": [
    "characters = [\n",
    "    \"a\",  # 0 ou -4\n",
    "    \"b\",  # 1 ou -3\n",
    "    \"c\",  # 2 ou -2\n",
    "    \"d\",  # 3 ou -1\n",
    "]\n",
    "\n",
    "print(\n",
    "    f\"{characters[0] = }\",\n",
    "    f\"{characters[-1] = }\",\n",
    "    sep=\"\\n\",\n",
    ")\n",
    "\n",
    "print(f\"Antes: {characters[1] = }\")\n",
    "characters[1] = \"bazinga\"  # Nada impede desse valor ser diferente de uma str\n",
    "print(f\"Depois: {characters[1] = }\")"
   ]
  },
  {
   "cell_type": "code",
   "execution_count": 231,
   "metadata": {},
   "outputs": [
    {
     "name": "stdout",
     "output_type": "stream",
     "text": [
      "numbers[0] = 1\n",
      "numbers[-1] = 3\n"
     ]
    }
   ],
   "source": [
    "# Indexação com tuples funcionam da mesma maneira\n",
    "numbers = (1, 2, 3)\n",
    "\n",
    "print(\n",
    "    f\"{numbers[0] = }\",\n",
    "    f\"{numbers[-1] = }\",\n",
    "    sep=\"\\n\",\n",
    ")\n"
   ]
  },
  {
   "cell_type": "code",
   "execution_count": 232,
   "metadata": {},
   "outputs": [],
   "source": [
    "# Tentar modificar o valor de uma tuple vai causar um erro. Descomente o\n",
    "# código abaixo para verificar\n",
    "\n",
    "# numbers[0] = 4  # Vai dar erro!"
   ]
  },
  {
   "cell_type": "code",
   "execution_count": 237,
   "metadata": {},
   "outputs": [],
   "source": [
    "# Não dá para acessar itens de um set pois não são ordenados. Descomente\n",
    "# o código abaixo para verificar\n",
    "\n",
    "# unique_items[0]  # Vai dar erro"
   ]
  },
  {
   "cell_type": "code",
   "execution_count": 239,
   "metadata": {},
   "outputs": [
    {
     "name": "stdout",
     "output_type": "stream",
     "text": [
      "user['name'] = 'Caio'\n",
      "user['age'] = 22\n"
     ]
    }
   ],
   "source": [
    "# Para acessar valores de dicts, utilize suas chaves\n",
    "print(\n",
    "    f\"{user['name'] = }\",\n",
    "    f\"{user['age'] = }\",\n",
    "    sep=\"\\n\",\n",
    ")"
   ]
  },
  {
   "cell_type": "code",
   "execution_count": 243,
   "metadata": {},
   "outputs": [
    {
     "name": "stdout",
     "output_type": "stream",
     "text": [
      "23\n"
     ]
    }
   ],
   "source": [
    "# Valores são mutáveis\n",
    "user['age'] = 23\n",
    "\n",
    "print(user['age'])"
   ]
  },
  {
   "cell_type": "code",
   "execution_count": 244,
   "metadata": {},
   "outputs": [
    {
     "name": "stdout",
     "output_type": "stream",
     "text": [
      "{'name': 'Caio', 'age': 23, 'email': 'caio@email.com'}\n"
     ]
    }
   ],
   "source": [
    "# Dá pra adicionar elementos\n",
    "user['email'] = 'caio@email.com'\n",
    "\n",
    "print(user)"
   ]
  },
  {
   "cell_type": "markdown",
   "metadata": {},
   "source": [
    "#### Slicing\n",
    "\n",
    "Basicamente sublistas"
   ]
  },
  {
   "cell_type": "code",
   "execution_count": 252,
   "metadata": {},
   "outputs": [
    {
     "name": "stdout",
     "output_type": "stream",
     "text": [
      "Cópia da lista: values[::] = ['a', 'b', 'c', 'd', 'e', 'f', 'g']\n",
      "Do segundo até o terceiro: values[1:4] = ['b', 'c', 'd']\n",
      "Do início até o terceiro: values[:4] = ['a', 'b', 'c', 'd']\n",
      "Do terceiro até o último: values[4:] = ['e', 'f', 'g']\n",
      "Excluindo o último item: values[:-1] = ['a', 'b', 'c', 'd', 'e', 'f']\n",
      "De 2 em 2: values[::2] = ['a', 'c', 'e', 'g']\n",
      "Invertido: values[::-1] = ['g', 'f', 'e', 'd', 'c', 'b', 'a']\n"
     ]
    }
   ],
   "source": [
    "# Sintaxe: [início (inclusivo) : final (exclusivo) : passo]\n",
    "# Deixar em branco: vai do início até o fim de 1 em 1\n",
    "values = [\"a\", \"b\", \"c\", \"d\", \"e\", \"f\", \"g\"]\n",
    "\n",
    "print(\n",
    "    f\"Cópia da lista: {values[::] = }\",\n",
    "    f\"Do segundo até o terceiro: {values[1:4] = }\",\n",
    "    f\"Do início até o terceiro: {values[:4] = }\",\n",
    "    f\"Do terceiro até o último: {values[4:] = }\",\n",
    "    f\"Excluindo o último item: {values[:-1] = }\",\n",
    "    f\"De 2 em 2: {values[::2] = }\",\n",
    "    f\"Invertido: {values[::-1] = }\",\n",
    "    sep=\"\\n\",\n",
    ")"
   ]
  },
  {
   "cell_type": "markdown",
   "metadata": {},
   "source": [
    "#### Desempacotamento"
   ]
  },
  {
   "cell_type": "code",
   "execution_count": 233,
   "metadata": {},
   "outputs": [
    {
     "name": "stdout",
     "output_type": "stream",
     "text": [
      "a bazinga c d 1 2 3\n"
     ]
    }
   ],
   "source": [
    "# tuples e lists podem ser desempacotados!\n",
    "a, b, c, d = characters\n",
    "x, y, z = numbers\n",
    "\n",
    "print(a, b, c, d, x, y, z)"
   ]
  },
  {
   "cell_type": "code",
   "execution_count": 242,
   "metadata": {},
   "outputs": [
    {
     "name": "stdout",
     "output_type": "stream",
     "text": [
      "a b c\n"
     ]
    }
   ],
   "source": [
    "# Curiosamente, strings também\n",
    "a, b, c = \"abc\"\n",
    "\n",
    "print(a, b, c)"
   ]
  },
  {
   "cell_type": "code",
   "execution_count": 234,
   "metadata": {},
   "outputs": [
    {
     "name": "stdout",
     "output_type": "stream",
     "text": [
      "a bazinga c d 1 2 3\n"
     ]
    }
   ],
   "source": [
    "# * desempacota os valores dentro de funções\n",
    "print(*characters, *numbers)"
   ]
  },
  {
   "cell_type": "code",
   "execution_count": 235,
   "metadata": {},
   "outputs": [
    {
     "name": "stdout",
     "output_type": "stream",
     "text": [
      "1 2\n"
     ]
    }
   ],
   "source": [
    "# tuples não precisam de parênteses para serem definidos\n",
    "a, b = 1, 2\n",
    "\n",
    "print(a, b)"
   ]
  },
  {
   "cell_type": "code",
   "execution_count": 236,
   "metadata": {},
   "outputs": [
    {
     "name": "stdout",
     "output_type": "stream",
     "text": [
      "single_valued_tuple = (1,), <class 'tuple'>\n",
      "also_tuple = (1,), <class 'tuple'>\n",
      "not_a_tuple = 1, <class 'int'>\n"
     ]
    }
   ],
   "source": [
    "# Por causa do desempacotamento, tuplas que contém valores únicos\n",
    "# precisam ser definidas com uma vírgula depois do seu valor\n",
    "single_valued_tuple = (1,)\n",
    "also_tuple = 1,\n",
    "not_a_tuple = (1)\n",
    "\n",
    "print(\n",
    "    f'{single_valued_tuple = }, {type(single_valued_tuple)}',\n",
    "    f'{also_tuple = }, {type(also_tuple)}',\n",
    "    f'{not_a_tuple = }, {type(not_a_tuple)}',\n",
    "    sep='\\n',\n",
    ")"
   ]
  }
 ],
 "metadata": {
  "kernelspec": {
   "display_name": ".venv",
   "language": "python",
   "name": "python3"
  },
  "language_info": {
   "codemirror_mode": {
    "name": "ipython",
    "version": 3
   },
   "file_extension": ".py",
   "mimetype": "text/x-python",
   "name": "python",
   "nbconvert_exporter": "python",
   "pygments_lexer": "ipython3",
   "version": "3.11.5"
  },
  "orig_nbformat": 4
 },
 "nbformat": 4,
 "nbformat_minor": 2
}
