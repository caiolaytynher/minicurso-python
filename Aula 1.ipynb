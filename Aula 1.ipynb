{
 "cells": [
  {
   "cell_type": "markdown",
   "metadata": {},
   "source": [
    "# Fundamentos\n",
    "\n",
    "## Olá mundo!\n",
    "\n",
    "Equivalente em C\n",
    "\n",
    "```c\n",
    "#include <stdio.h>\n",
    "\n",
    "int main(void) {\n",
    "    printf(\"Hello world!\\n\");\n",
    "    return 0;\n",
    "}\n",
    "```\n"
   ]
  },
  {
   "cell_type": "code",
   "execution_count": 205,
   "metadata": {},
   "outputs": [
    {
     "name": "stdout",
     "output_type": "stream",
     "text": [
      "Hello world!\n"
     ]
    }
   ],
   "source": [
    "print(\"Hello world!\")"
   ]
  },
  {
   "cell_type": "markdown",
   "metadata": {},
   "source": [
    "## A função `print()`\n"
   ]
  },
  {
   "cell_type": "code",
   "execution_count": 206,
   "metadata": {},
   "outputs": [
    {
     "name": "stdout",
     "output_type": "stream",
     "text": [
      "Hello world!\n"
     ]
    }
   ],
   "source": [
    "print(\"Hello world!\")"
   ]
  },
  {
   "cell_type": "markdown",
   "metadata": {},
   "source": [
    "Equivalente em C\n",
    "\n",
    "```c\n",
    "#include <stdio.h>\n",
    "#include <stdbool.h>\n",
    "\n",
    "int main(void) {\n",
    "    printf(\"%d\\n\", 1);    // 1\n",
    "    printf(\"%f\\n\", 1.3);  // 1.3\n",
    "    printf(\"%d\\n\", true); // 1\n",
    "    return 0;\n",
    "}\n",
    "```\n"
   ]
  },
  {
   "cell_type": "code",
   "execution_count": 207,
   "metadata": {},
   "outputs": [
    {
     "name": "stdout",
     "output_type": "stream",
     "text": [
      "1\n",
      "1.3\n",
      "True\n"
     ]
    }
   ],
   "source": [
    "print(1)\n",
    "print(1.3)\n",
    "print(True)"
   ]
  },
  {
   "cell_type": "code",
   "execution_count": 208,
   "metadata": {},
   "outputs": [
    {
     "name": "stdout",
     "output_type": "stream",
     "text": [
      "um número 1\n",
      "1 + 1 é iqual a 2\n"
     ]
    }
   ],
   "source": [
    "print(\"um número\", 1)\n",
    "print(\"1 + 1 é iqual a\", 1 + 1)"
   ]
  },
  {
   "cell_type": "code",
   "execution_count": 209,
   "metadata": {},
   "outputs": [
    {
     "name": "stdout",
     "output_type": "stream",
     "text": [
      "1 2 3\n"
     ]
    }
   ],
   "source": [
    "print(1, 2, 3)"
   ]
  },
  {
   "cell_type": "code",
   "execution_count": 210,
   "metadata": {},
   "outputs": [
    {
     "name": "stdout",
     "output_type": "stream",
     "text": [
      "1\n",
      "2\n",
      "3\n"
     ]
    }
   ],
   "source": [
    "print(1)\n",
    "print(2)\n",
    "print(3)"
   ]
  },
  {
   "cell_type": "code",
   "execution_count": 211,
   "metadata": {},
   "outputs": [
    {
     "name": "stdout",
     "output_type": "stream",
     "text": [
      "1\n",
      "2\n",
      "3\n"
     ]
    }
   ],
   "source": [
    "print(1, 2, 3, sep=\"\\n\")"
   ]
  },
  {
   "cell_type": "code",
   "execution_count": 212,
   "metadata": {},
   "outputs": [
    {
     "name": "stdout",
     "output_type": "stream",
     "text": [
      "1, 2, 3\n"
     ]
    }
   ],
   "source": [
    "print(1, 2, 3, sep=\", \")"
   ]
  },
  {
   "cell_type": "code",
   "execution_count": 213,
   "metadata": {},
   "outputs": [
    {
     "name": "stdout",
     "output_type": "stream",
     "text": [
      "1 2 3\n"
     ]
    }
   ],
   "source": [
    "print(1, end=\" \")\n",
    "print(2, end=\" \")\n",
    "print(3)"
   ]
  },
  {
   "cell_type": "markdown",
   "metadata": {},
   "source": [
    "## Formatação de texto\n"
   ]
  },
  {
   "cell_type": "code",
   "execution_count": 214,
   "metadata": {},
   "outputs": [
    {
     "name": "stdout",
     "output_type": "stream",
     "text": [
      "número 1\n"
     ]
    }
   ],
   "source": [
    "print(f\"número {1}\")"
   ]
  },
  {
   "cell_type": "code",
   "execution_count": 215,
   "metadata": {},
   "outputs": [
    {
     "name": "stdout",
     "output_type": "stream",
     "text": [
      "1 + 1 = 2\n",
      "1 + 1 = 2\n"
     ]
    }
   ],
   "source": [
    "print(\n",
    "    f\"1 + 1 = {1 + 1}\",\n",
    "    f\"{1 + 1 = }\",\n",
    "    sep=\"\\n\",\n",
    ")"
   ]
  },
  {
   "cell_type": "code",
   "execution_count": 216,
   "metadata": {},
   "outputs": [
    {
     "name": "stdout",
     "output_type": "stream",
     "text": [
      "Um terço: 0.3333333333333333\n",
      "Um terço: 0.33\n",
      "1 / 3 = 0.33\n"
     ]
    }
   ],
   "source": [
    "print(\n",
    "    f\"Um terço: {1 / 3}\",\n",
    "    f\"Um terço: {1 / 3:.2f}\",\n",
    "    f\"{1 / 3 = :.2f}\",\n",
    "    sep=\"\\n\",\n",
    ")"
   ]
  },
  {
   "cell_type": "code",
   "execution_count": 217,
   "metadata": {},
   "outputs": [
    {
     "name": "stdout",
     "output_type": "stream",
     "text": [
      "1_000_000 = 1000000\n",
      "1e6 = 1000000.0\n",
      "1_000_000 = 1,000,000\n",
      "1_000_000 = 1.00e+06\n"
     ]
    }
   ],
   "source": [
    "# Tente remover os underlines (_) ou muda-los de lugar\n",
    "print(\n",
    "    f\"{1_000_000 = }\",\n",
    "    f\"{1e6 = }\",\n",
    "    f\"{1_000_000 = :,}\",\n",
    "    f\"{1_000_000 = :.2e}\",\n",
    "    sep=\"\\n\",\n",
    ")"
   ]
  },
  {
   "cell_type": "code",
   "execution_count": 218,
   "metadata": {},
   "outputs": [
    {
     "name": "stdout",
     "output_type": "stream",
     "text": [
      "18555e-6 = 0.018555\n",
      "18555e-6 = 1.86e-02\n"
     ]
    }
   ],
   "source": [
    "print(\n",
    "    f\"{18555e-6 = }\",\n",
    "    f\"{18555e-6 = :.2e}\",\n",
    "    sep=\"\\n\",\n",
    ")"
   ]
  },
  {
   "cell_type": "markdown",
   "metadata": {},
   "source": [
    "## Variáveis\n",
    "\n",
    "Variáveis em C\n",
    "\n",
    "```c\n",
    "int main(void) {\n",
    "    const char* text = \"Oi, eu sou um texto.\";\n",
    "    int number = 1;\n",
    "\n",
    "    return 0;\n",
    "}\n",
    "```\n"
   ]
  },
  {
   "cell_type": "code",
   "execution_count": 219,
   "metadata": {},
   "outputs": [
    {
     "name": "stdout",
     "output_type": "stream",
     "text": [
      "Oi, eu sou um texto.\n",
      "1\n",
      "1 Oi, eu sou um texto.\n"
     ]
    }
   ],
   "source": [
    "text = \"Oi, eu sou um texto.\"\n",
    "number = 1\n",
    "\n",
    "print(text)\n",
    "print(number)\n",
    "print(number, text)"
   ]
  },
  {
   "cell_type": "code",
   "execution_count": 220,
   "metadata": {},
   "outputs": [
    {
     "name": "stdout",
     "output_type": "stream",
     "text": [
      "Meu nome é Caio e eu tenho 22.\n"
     ]
    }
   ],
   "source": [
    "name = \"Caio\"\n",
    "age = 22\n",
    "print(f\"Meu nome é {name} e eu tenho {age}.\")"
   ]
  },
  {
   "cell_type": "code",
   "execution_count": 221,
   "metadata": {},
   "outputs": [
    {
     "name": "stdout",
     "output_type": "stream",
     "text": [
      "result = 0.33\n"
     ]
    }
   ],
   "source": [
    "result = 1 / 3\n",
    "print(f\"{result = :.2f}\")"
   ]
  },
  {
   "cell_type": "markdown",
   "metadata": {},
   "source": [
    "### Constantes"
   ]
  },
  {
   "cell_type": "code",
   "execution_count": 222,
   "metadata": {},
   "outputs": [
    {
     "name": "stdout",
     "output_type": "stream",
     "text": [
      "Antes: variable = 'variável'\n",
      "Depois: variable = 'outro valor'\n"
     ]
    }
   ],
   "source": [
    "variable = \"variável\"\n",
    "CONSTANT = \"constante\"  # Tente me redefinir\n",
    "\n",
    "print(f\"Antes: {variable = }\")\n",
    "\n",
    "# Redefinindo variável. Nada impede que o valor seja redefinido para um\n",
    "# valor de tipo completamente diferente. Seu editor pode reclamar,\n",
    "# entretanto.\n",
    "variable = \"outro valor\"  \n",
    "\n",
    "print(f\"Depois: {variable = }\")"
   ]
  },
  {
   "cell_type": "markdown",
   "metadata": {},
   "source": [
    "## Tipos de dados primitivos\n",
    "\n",
    "### Numéricos:\n",
    "\n",
    "- `int`: Números inteiros $\\mathbb{Z}$\n",
    "- `float`: Números racionais $\\mathbb{Q}$\n",
    "- `complex`: Números complexos $\\mathbb{C}$\n"
   ]
  },
  {
   "cell_type": "code",
   "execution_count": 223,
   "metadata": {},
   "outputs": [
    {
     "name": "stdout",
     "output_type": "stream",
     "text": [
      "Tipo:            <class 'int'>\n",
      "Adição:          a + b   = 5\n",
      "Subtração:       a - b   = -1\n",
      "Multiplicação:   a * b   = 6\n",
      "Potenciação:     a**b    = 8\n",
      "Divisão:         a / b   = 0.6666666666666666\n",
      "Divisão inteira: a // b  = 0\n",
      "Resto:           a % b   = 2\n"
     ]
    }
   ],
   "source": [
    "# Mude esses valores\n",
    "a = 2\n",
    "b = 3\n",
    "\n",
    "print(\n",
    "    f\"Tipo:            {type(a)}\",\n",
    "    f\"Adição:          {a + b   = }\",\n",
    "    f\"Subtração:       {a - b   = }\",\n",
    "    f\"Multiplicação:   {a * b   = }\",\n",
    "    f\"Potenciação:     {a**b    = }\",\n",
    "    f\"Divisão:         {a / b   = }\",\n",
    "    f\"Divisão inteira: {a // b  = }\",\n",
    "    f\"Resto:           {a % b   = }\",\n",
    "    sep=\"\\n\",\n",
    ")"
   ]
  },
  {
   "cell_type": "code",
   "execution_count": 224,
   "metadata": {},
   "outputs": [
    {
     "name": "stdout",
     "output_type": "stream",
     "text": [
      "Tipo:            <class 'float'>\n",
      "Adição:          a + b  = 5.5\n",
      "Subtração:       a - b  = -1.0999999999999996\n",
      "Multiplicação:   a * b  = 7.26\n",
      "Potenciação:     a**b   = 13.489468760533386\n",
      "Divisão:         a / b  = 0.6666666666666667\n",
      "Divisão inteira: a // b = 0.0\n",
      "Resto:           a % b  = 2.2\n"
     ]
    }
   ],
   "source": [
    "# Mude esses também\n",
    "a = 2.2\n",
    "b = 3.3\n",
    "\n",
    "print(\n",
    "    f\"Tipo:            {type(a)}\",\n",
    "    f\"Adição:          {a + b  = }\",\n",
    "    f\"Subtração:       {a - b  = }\",\n",
    "    f\"Multiplicação:   {a * b  = }\",\n",
    "    f\"Potenciação:     {a**b   = }\",\n",
    "    f\"Divisão:         {a / b  = }\",\n",
    "    f\"Divisão inteira: {a // b = }\",\n",
    "    f\"Resto:           {a % b  = }\",\n",
    "    sep=\"\\n\",\n",
    ")"
   ]
  },
  {
   "cell_type": "code",
   "execution_count": 225,
   "metadata": {},
   "outputs": [
    {
     "name": "stdout",
     "output_type": "stream",
     "text": [
      "Tipo:            <class 'complex'>\n",
      "Adição:          a + b  = (3.2+3.2j)\n",
      "Subtração:       a - b  = (-1.2000000000000002+1.2000000000000002j)\n",
      "Multiplicação:   a * b  = 5.840000000000001j\n",
      "Potenciação:     a**b   = (-2.1455412498205146-0.5660397724732915j)\n",
      "Divisão:         a / b  = (0.7534246575342465+0.6575342465753424j)\n"
     ]
    }
   ],
   "source": [
    "# Já sabe né?\n",
    "a = 1 + 2.2j\n",
    "b = 2.2 + 1j\n",
    "\n",
    "print(\n",
    "    f\"Tipo:            {type(a)}\",\n",
    "    f\"Adição:          {a + b  = }\",\n",
    "    f\"Subtração:       {a - b  = }\",\n",
    "    f\"Multiplicação:   {a * b  = }\",\n",
    "    f\"Potenciação:     {a**b   = }\",\n",
    "    f\"Divisão:         {a / b  = }\",\n",
    "    sep=\"\\n\",\n",
    ")"
   ]
  },
  {
   "cell_type": "markdown",
   "metadata": {},
   "source": [
    "### Textual: `str`"
   ]
  },
  {
   "cell_type": "code",
   "execution_count": 227,
   "metadata": {},
   "outputs": [
    {
     "name": "stdout",
     "output_type": "stream",
     "text": [
      "Sou um texto\n",
      "Sou um texto formatado 1\n",
      "Sou um texto cru {1}.\\n\n",
      "\n",
      "    Sou um texto\n",
      "    multi linha.\n",
      "    \n"
     ]
    }
   ],
   "source": [
    "print(\n",
    "    \"Sou um texto\",\n",
    "    f\"Sou um texto formatado {1}\",\n",
    "    r\"Sou um texto cru {1}.\\n\",\n",
    "    \"\"\"\n",
    "    Sou um texto\n",
    "    multi linha.\n",
    "    \"\"\",\n",
    "    sep=\"\\n\",\n",
    ")"
   ]
  },
  {
   "cell_type": "code",
   "execution_count": 228,
   "metadata": {},
   "outputs": [
    {
     "name": "stdout",
     "output_type": "stream",
     "text": [
      "<class 'str'>\n",
      "<class 'str'>\n",
      "<class 'str'>\n",
      "<class 'str'>\n"
     ]
    }
   ],
   "source": [
    "print(\n",
    "    type(\"Sou um texto\"),\n",
    "    type(f\"Sou um texto formatado {1}\"),\n",
    "    type(r\"Sou um texto cru {1}.\\n\"),\n",
    "    type(\n",
    "        \"\"\"\n",
    "        Sou um texto\n",
    "        multi linha.\n",
    "        \"\"\"\n",
    "    ),\n",
    "    sep=\"\\n\",\n",
    ")"
   ]
  },
  {
   "cell_type": "code",
   "execution_count": 229,
   "metadata": {},
   "outputs": [
    {
     "name": "stdout",
     "output_type": "stream",
     "text": [
      "um texto outro texto\n",
      "um texto um texto um texto \n"
     ]
    }
   ],
   "source": [
    "print(\n",
    "    \"um texto \" + \"outro texto\",\n",
    "    \"um texto \" * 3,\n",
    "    sep=\"\\n\",\n",
    ")"
   ]
  },
  {
   "cell_type": "markdown",
   "metadata": {},
   "source": [
    "### Lógico: `bool`\n",
    "\n",
    "Valores verdadeiros ou falsos. Abreviação de \"booleano\"."
   ]
  },
  {
   "cell_type": "code",
   "execution_count": 230,
   "metadata": {},
   "outputs": [
    {
     "name": "stdout",
     "output_type": "stream",
     "text": [
      "a = True, type(a) = <class 'bool'>\n",
      "b = False, type(b) = <class 'bool'>\n"
     ]
    }
   ],
   "source": [
    "a = True\n",
    "b = False\n",
    "\n",
    "print(\n",
    "    f\"{a = }, {type(a) = }\",\n",
    "    f\"{b = }, {type(b) = }\",\n",
    "    sep=\"\\n\",\n",
    ")"
   ]
  },
  {
   "cell_type": "markdown",
   "metadata": {},
   "source": [
    "#### Cast\n",
    "\n",
    "Castar um tipo é converter um em outro **quando possível**."
   ]
  },
  {
   "cell_type": "code",
   "execution_count": 231,
   "metadata": {},
   "outputs": [
    {
     "name": "stdout",
     "output_type": "stream",
     "text": [
      "'1'\n",
      "1\n",
      "1.0\n"
     ]
    }
   ],
   "source": [
    "str_number = '1'\n",
    "int_number = int(str_number)\n",
    "float_number = float(str_number)\n",
    "\n",
    "print(\n",
    "    f'{str_number!r}',  # Equivalente a chamar repr() no objeto\n",
    "    f'{int_number!r}',\n",
    "    f'{float_number!r}',\n",
    "    sep='\\n',\n",
    ")"
   ]
  },
  {
   "cell_type": "markdown",
   "metadata": {},
   "source": [
    "### Métodos e propriedades\n",
    "\n",
    "- Método: Uma função que faz parte de um objeto ou classe\n",
    "- Propriedade: Uma variável que faz parte de um objeto ou classe\n",
    "\n",
    "Ambos são acessados por meio de um ponto (`.`)"
   ]
  },
  {
   "cell_type": "code",
   "execution_count": 277,
   "metadata": {},
   "outputs": [
    {
     "name": "stdout",
     "output_type": "stream",
     "text": [
      "1.0 2.0\n"
     ]
    }
   ],
   "source": [
    "number = 1 + 2j\n",
    "\n",
    "print(number.real, number.imag)"
   ]
  },
  {
   "cell_type": "code",
   "execution_count": 281,
   "metadata": {},
   "outputs": [
    {
     "name": "stdout",
     "output_type": "stream",
     "text": [
      "Começa com C? True\n",
      "Termina com o? True\n",
      "É um número? False\n",
      "Tudo maiúsculo: CAIO\n",
      "Tudo minúsculo: caio\n"
     ]
    }
   ],
   "source": [
    "name = \"Caio\"\n",
    "print(\n",
    "    f\"Começa com C? {name.startswith('C')}\",\n",
    "    f\"Termina com o? {name.endswith('o')}\",\n",
    "    f\"É um número? {name.isdigit()}\",\n",
    "    f\"Tudo maiúsculo: {name.upper()}\",\n",
    "    f\"Tudo minúsculo: {name.lower()}\",\n",
    "    sep=\"\\n\",\n",
    ")"
   ]
  },
  {
   "cell_type": "markdown",
   "metadata": {},
   "source": [
    "### Coleções\n",
    "\n",
    "- `list`: listas\n",
    "- `set`: conjuntos\n",
    "- `tuple`: tupla (???)\n",
    "- `dict`: dicionários\n"
   ]
  },
  {
   "cell_type": "code",
   "execution_count": 232,
   "metadata": {},
   "outputs": [
    {
     "name": "stdout",
     "output_type": "stream",
     "text": [
      "items = [1, 1, 2.0, 'Caio', 'Caio', True], <class 'list'>\n",
      "unique_items = {1, 2.0, 'Caio'}, <class 'set'>\n",
      "user_info = ('Caio', 22), <class 'tuple'>\n",
      "user = {'name': 'Caio', 'age': 22}, <class 'dict'>\n"
     ]
    }
   ],
   "source": [
    "items = [1, 1, 2.0, \"Caio\", \"Caio\", True]  # Mutável, ordenado\n",
    "unique_items = {1, 1, 2.0, \"Caio\", \"Caio\", True}  # Mutável, desordenado\n",
    "user_info = (\"Caio\", 22)  # Imutável, ordenado\n",
    "user = {  # Mutável, pares de chave e valor\n",
    "    \"name\": \"Caio\",\n",
    "    \"age\": 22,\n",
    "}\n",
    "\n",
    "print(\n",
    "    f\"{items = }, {type(items)}\",\n",
    "    f\"{unique_items = }, {type(unique_items)}\",\n",
    "    f\"{user_info = }, {type(user_info)}\",\n",
    "    f\"{user = }, {type(user)}\",\n",
    "    sep=\"\\n\",\n",
    ")"
   ]
  },
  {
   "cell_type": "markdown",
   "metadata": {},
   "source": [
    "#### Como acessar os seus itens"
   ]
  },
  {
   "cell_type": "code",
   "execution_count": 233,
   "metadata": {},
   "outputs": [
    {
     "name": "stdout",
     "output_type": "stream",
     "text": [
      "characters[0] = 'a'\n",
      "characters[-1] = 'd'\n",
      "Antes: characters[1] = 'b'\n",
      "Depois: characters[1] = 'bazinga'\n"
     ]
    }
   ],
   "source": [
    "characters = [\n",
    "    \"a\",  # 0 ou -4\n",
    "    \"b\",  # 1 ou -3\n",
    "    \"c\",  # 2 ou -2\n",
    "    \"d\",  # 3 ou -1\n",
    "]\n",
    "\n",
    "print(\n",
    "    f\"{characters[0] = }\",\n",
    "    f\"{characters[-1] = }\",\n",
    "    sep=\"\\n\",\n",
    ")\n",
    "\n",
    "print(f\"Antes: {characters[1] = }\")\n",
    "characters[1] = \"bazinga\"  # Nada impede desse valor ser diferente de uma str\n",
    "print(f\"Depois: {characters[1] = }\")"
   ]
  },
  {
   "cell_type": "code",
   "execution_count": 234,
   "metadata": {},
   "outputs": [
    {
     "name": "stdout",
     "output_type": "stream",
     "text": [
      "numbers[0] = 1\n",
      "numbers[-1] = 3\n"
     ]
    }
   ],
   "source": [
    "# Indexação com tuples funcionam da mesma maneira\n",
    "numbers = (1, 2, 3)\n",
    "\n",
    "print(\n",
    "    f\"{numbers[0] = }\",\n",
    "    f\"{numbers[-1] = }\",\n",
    "    sep=\"\\n\",\n",
    ")\n"
   ]
  },
  {
   "cell_type": "code",
   "execution_count": 235,
   "metadata": {},
   "outputs": [],
   "source": [
    "# Tentar modificar o valor de uma tuple vai causar um erro. Descomente o\n",
    "# código abaixo para verificar\n",
    "\n",
    "# numbers[0] = 4  # Vai dar erro!"
   ]
  },
  {
   "cell_type": "code",
   "execution_count": 236,
   "metadata": {},
   "outputs": [],
   "source": [
    "# Não dá para acessar itens de um set pois não são ordenados. Descomente\n",
    "# o código abaixo para verificar\n",
    "\n",
    "# unique_items[0]  # Vai dar erro"
   ]
  },
  {
   "cell_type": "code",
   "execution_count": 237,
   "metadata": {},
   "outputs": [
    {
     "name": "stdout",
     "output_type": "stream",
     "text": [
      "user['name'] = 'Caio'\n",
      "user['age'] = 22\n"
     ]
    }
   ],
   "source": [
    "# Para acessar valores de dicts, utilize suas chaves\n",
    "print(\n",
    "    f\"{user['name'] = }\",\n",
    "    f\"{user['age'] = }\",\n",
    "    sep=\"\\n\",\n",
    ")"
   ]
  },
  {
   "cell_type": "code",
   "execution_count": 238,
   "metadata": {},
   "outputs": [
    {
     "name": "stdout",
     "output_type": "stream",
     "text": [
      "23\n"
     ]
    }
   ],
   "source": [
    "# Valores são mutáveis\n",
    "user['age'] = 23\n",
    "\n",
    "print(user['age'])"
   ]
  },
  {
   "cell_type": "code",
   "execution_count": 239,
   "metadata": {},
   "outputs": [
    {
     "name": "stdout",
     "output_type": "stream",
     "text": [
      "{'name': 'Caio', 'age': 23, 'email': 'caio@email.com'}\n"
     ]
    }
   ],
   "source": [
    "# Dá pra adicionar elementos\n",
    "user['email'] = 'caio@email.com'\n",
    "\n",
    "print(user)"
   ]
  },
  {
   "cell_type": "markdown",
   "metadata": {},
   "source": [
    "#### Slicing\n",
    "\n",
    "Basicamente sublistas"
   ]
  },
  {
   "cell_type": "code",
   "execution_count": 240,
   "metadata": {},
   "outputs": [
    {
     "name": "stdout",
     "output_type": "stream",
     "text": [
      "Cópia da lista: values[::] = ['a', 'b', 'c', 'd', 'e', 'f', 'g']\n",
      "Do segundo até o terceiro: values[1:4] = ['b', 'c', 'd']\n",
      "Do início até o terceiro: values[:4] = ['a', 'b', 'c', 'd']\n",
      "Do terceiro até o último: values[4:] = ['e', 'f', 'g']\n",
      "Excluindo o último item: values[:-1] = ['a', 'b', 'c', 'd', 'e', 'f']\n",
      "De 2 em 2: values[::2] = ['a', 'c', 'e', 'g']\n",
      "Invertido: values[::-1] = ['g', 'f', 'e', 'd', 'c', 'b', 'a']\n"
     ]
    }
   ],
   "source": [
    "# Sintaxe: [início (inclusivo) : final (exclusivo) : passo]\n",
    "# Deixar em branco: vai do início até o fim de 1 em 1\n",
    "values = [\"a\", \"b\", \"c\", \"d\", \"e\", \"f\", \"g\"]\n",
    "\n",
    "print(\n",
    "    f\"Cópia da lista: {values[::] = }\",\n",
    "    f\"Do segundo até o terceiro: {values[1:4] = }\",\n",
    "    f\"Do início até o terceiro: {values[:4] = }\",\n",
    "    f\"Do terceiro até o último: {values[4:] = }\",\n",
    "    f\"Excluindo o último item: {values[:-1] = }\",\n",
    "    f\"De 2 em 2: {values[::2] = }\",\n",
    "    f\"Invertido: {values[::-1] = }\",\n",
    "    sep=\"\\n\",\n",
    ")"
   ]
  },
  {
   "cell_type": "markdown",
   "metadata": {},
   "source": [
    "#### Desempacotamento"
   ]
  },
  {
   "cell_type": "code",
   "execution_count": 241,
   "metadata": {},
   "outputs": [
    {
     "name": "stdout",
     "output_type": "stream",
     "text": [
      "a bazinga c d 1 2 3\n"
     ]
    }
   ],
   "source": [
    "# tuples e lists podem ser desempacotados!\n",
    "a, b, c, d = characters\n",
    "x, y, z = numbers\n",
    "\n",
    "print(a, b, c, d, x, y, z)"
   ]
  },
  {
   "cell_type": "code",
   "execution_count": 242,
   "metadata": {},
   "outputs": [
    {
     "name": "stdout",
     "output_type": "stream",
     "text": [
      "a b c\n"
     ]
    }
   ],
   "source": [
    "# Curiosamente, strings também\n",
    "a, b, c = \"abc\"\n",
    "\n",
    "print(a, b, c)"
   ]
  },
  {
   "cell_type": "code",
   "execution_count": 243,
   "metadata": {},
   "outputs": [
    {
     "name": "stdout",
     "output_type": "stream",
     "text": [
      "a bazinga c d 1 2 3\n"
     ]
    }
   ],
   "source": [
    "# * desempacota os valores dentro de funções\n",
    "print(*characters, *numbers)"
   ]
  },
  {
   "cell_type": "code",
   "execution_count": 244,
   "metadata": {},
   "outputs": [
    {
     "name": "stdout",
     "output_type": "stream",
     "text": [
      "1 2\n"
     ]
    }
   ],
   "source": [
    "# tuples não precisam de parênteses para serem definidos\n",
    "a, b = 1, 2\n",
    "\n",
    "print(a, b)"
   ]
  },
  {
   "cell_type": "code",
   "execution_count": 245,
   "metadata": {},
   "outputs": [
    {
     "name": "stdout",
     "output_type": "stream",
     "text": [
      "single_valued_tuple = (1,), <class 'tuple'>\n",
      "also_tuple = (1,), <class 'tuple'>\n",
      "not_a_tuple = 1, <class 'int'>\n"
     ]
    }
   ],
   "source": [
    "# Por causa do desempacotamento, tuplas que contém valores únicos\n",
    "# precisam ser definidas com uma vírgula depois do seu valor\n",
    "single_valued_tuple = (1,)\n",
    "also_tuple = 1,\n",
    "not_a_tuple = 1\n",
    "\n",
    "print(\n",
    "    f\"{single_valued_tuple = }, {type(single_valued_tuple)}\",\n",
    "    f\"{also_tuple = }, {type(also_tuple)}\",\n",
    "    f\"{not_a_tuple = }, {type(not_a_tuple)}\",\n",
    "    sep=\"\\n\",\n",
    ")"
   ]
  },
  {
   "cell_type": "markdown",
   "metadata": {},
   "source": [
    "### Métodos e propriedades\n",
    "\n",
    "- `list`"
   ]
  },
  {
   "cell_type": "code",
   "execution_count": 288,
   "metadata": {},
   "outputs": [
    {
     "name": "stdout",
     "output_type": "stream",
     "text": [
      "['Power Guido', 'Cuca Beludo', 'Giuseppe Camole', 'Deide Costa']\n"
     ]
    }
   ],
   "source": [
    "names = [\n",
    "    \"Power Guido\",\n",
    "    \"Cuca Beludo\",\n",
    "    \"Giuseppe Camole\",\n",
    "    \"Deide Costa\",\n",
    "]\n",
    "\n",
    "print(names)"
   ]
  },
  {
   "cell_type": "code",
   "execution_count": 289,
   "metadata": {},
   "outputs": [
    {
     "name": "stdout",
     "output_type": "stream",
     "text": [
      "['Power Guido', 'Cuca Beludo', 'Giuseppe Camole', 'Deide Costa', 'Thomas Turbando Pinto']\n"
     ]
    }
   ],
   "source": [
    "names.append(\"...\")  # Escolha um nome\n",
    "print(names)"
   ]
  },
  {
   "cell_type": "code",
   "execution_count": 290,
   "metadata": {},
   "outputs": [
    {
     "name": "stdout",
     "output_type": "stream",
     "text": [
      "2\n"
     ]
    }
   ],
   "source": [
    "idx = names.index(\"Giuseppe Camole\")\n",
    "print(idx)"
   ]
  },
  {
   "cell_type": "code",
   "execution_count": 291,
   "metadata": {},
   "outputs": [
    {
     "name": "stdout",
     "output_type": "stream",
     "text": [
      "2\n"
     ]
    }
   ],
   "source": [
    "names.append(\"Power Guido\")\n",
    "amount = names.count(\"Power Guido\")\n",
    "print(amount)"
   ]
  },
  {
   "cell_type": "code",
   "execution_count": 292,
   "metadata": {},
   "outputs": [
    {
     "name": "stdout",
     "output_type": "stream",
     "text": [
      "['Cuca Beludo', 'Giuseppe Camole', 'Deide Costa', 'Thomas Turbando Pinto', 'Power Guido']\n"
     ]
    }
   ],
   "source": [
    "names.remove(\"Power Guido\")\n",
    "print(names)"
   ]
  },
  {
   "cell_type": "code",
   "execution_count": 293,
   "metadata": {},
   "outputs": [
    {
     "name": "stdout",
     "output_type": "stream",
     "text": [
      "['Cuca Beludo', 'Giuseppe Camole', 'Deide Costa', 'Thomas Turbando Pinto'] Power Guido\n"
     ]
    }
   ],
   "source": [
    "last_name = names.pop()\n",
    "print(names, last_name)"
   ]
  },
  {
   "cell_type": "markdown",
   "metadata": {},
   "source": [
    "## Expressões booleanas\n",
    "\n",
    "Expressões que avaliam para verdadeiro ou falso.\n",
    "\n",
    "### Comparação"
   ]
  },
  {
   "cell_type": "code",
   "execution_count": 246,
   "metadata": {},
   "outputs": [
    {
     "name": "stdout",
     "output_type": "stream",
     "text": [
      "Igualdade:      a == b = True\n",
      "Maior:          a > b  = False\n",
      "Maior ou igual: a >= b = True\n",
      "Menor:          a < b  = False\n",
      "Menor ou igual: a <= b = True\n"
     ]
    }
   ],
   "source": [
    "# Mude estes valores\n",
    "a = 1\n",
    "b = 1\n",
    "\n",
    "print(\n",
    "    f\"Igualdade:      {a == b = }\",\n",
    "    f\"Maior:          {a > b  = }\",\n",
    "    f\"Maior ou igual: {a >= b = }\",\n",
    "    f\"Menor:          {a < b  = }\",\n",
    "    f\"Menor ou igual: {a <= b = }\",\n",
    "    sep=\"\\n\",\n",
    ")"
   ]
  },
  {
   "cell_type": "markdown",
   "metadata": {},
   "source": [
    "### Operadores lógicos"
   ]
  },
  {
   "cell_type": "code",
   "execution_count": 247,
   "metadata": {},
   "outputs": [
    {
     "name": "stdout",
     "output_type": "stream",
     "text": [
      "condition_a and condition_b = True\n",
      "condition_a or condition_b = True\n",
      "not condition_a = False\n",
      "not condition_b = False\n",
      "condition_a is True = True\n",
      "condition_b is False = False\n"
     ]
    }
   ],
   "source": [
    "condition_a = True\n",
    "condition_b = True\n",
    "\n",
    "print(\n",
    "    f\"{condition_a and condition_b = }\",\n",
    "    f\"{condition_a or condition_b = }\",\n",
    "    f\"{not condition_a = }\",\n",
    "    f\"{not condition_b = }\",\n",
    "    f\"{condition_a is True = }\",\n",
    "    f\"{condition_b is False = }\",\n",
    "    sep=\"\\n\",\n",
    ")"
   ]
  },
  {
   "cell_type": "markdown",
   "metadata": {},
   "source": [
    "### `is` vs `==`\n",
    "- `is` compara o `id` dos objetos\n",
    "- `==` compara apenas os valores"
   ]
  },
  {
   "cell_type": "code",
   "execution_count": 248,
   "metadata": {},
   "outputs": [
    {
     "name": "stdout",
     "output_type": "stream",
     "text": [
      "list_a == list_b = True\n",
      "list_a == list_c = True\n",
      "list_a is list_b = False\n",
      "list_a is list_c = True\n",
      "id(list_a) == id(list_b) = False\n",
      "id(list_a) == id(list_c) = True\n"
     ]
    }
   ],
   "source": [
    "list_a = [1, 2, 3]\n",
    "list_b = [1, 2, 3]\n",
    "list_c = list_a  # Cria um alias\n",
    "\n",
    "print(\n",
    "    f'{list_a == list_b = }',\n",
    "    f'{list_a == list_c = }',\n",
    "    f'{list_a is list_b = }',\n",
    "    f'{list_a is list_c = }',\n",
    "    f'{id(list_a) == id(list_b) = }',\n",
    "    f'{id(list_a) == id(list_c) = }',\n",
    "    sep='\\n',\n",
    ")"
   ]
  },
  {
   "cell_type": "markdown",
   "metadata": {},
   "source": [
    "Devemos usar `is` ao comparar com tipos primitivos"
   ]
  },
  {
   "cell_type": "code",
   "execution_count": 249,
   "metadata": {},
   "outputs": [
    {
     "name": "stdout",
     "output_type": "stream",
     "text": [
      "condition is True = True\n",
      "condition is False = False\n",
      "nothing is None = True\n",
      "condition is not True = False\n",
      "condition is not False = True\n",
      "nothing is not None = False\n"
     ]
    }
   ],
   "source": [
    "# Pode brincar à vontade\n",
    "condition = 1 < 2\n",
    "nothing = None\n",
    "\n",
    "print(\n",
    "    f\"{condition is True = }\",\n",
    "    f\"{condition is False = }\",\n",
    "    f\"{nothing is None = }\",\n",
    "    f\"{condition is not True = }\",\n",
    "    f\"{condition is not False = }\",\n",
    "    f\"{nothing is not None = }\",\n",
    "    sep=\"\\n\",\n",
    ")"
   ]
  },
  {
   "cell_type": "markdown",
   "metadata": {},
   "source": [
    "### Falsidade de objetos\n",
    "\n",
    "Alguns objetos em Python têm equivalência de um valor falso."
   ]
  },
  {
   "cell_type": "code",
   "execution_count": 250,
   "metadata": {},
   "outputs": [
    {
     "name": "stdout",
     "output_type": "stream",
     "text": [
      "String vazia: False\n",
      "Lista vazia: False\n",
      "Zero: False\n",
      "Nenhum: False\n"
     ]
    }
   ],
   "source": [
    "print(\n",
    "    f\"String vazia: {not not ''}\",\n",
    "    f\"Lista vazia: {not not []}\",\n",
    "    f\"Zero: {not not 0}\",\n",
    "    f\"Nenhum: {not not None}\",\n",
    "    sep=\"\\n\",\n",
    ")"
   ]
  },
  {
   "cell_type": "markdown",
   "metadata": {},
   "source": [
    "Automaticamente, as variantes não vazias são consideradas verdadeiras."
   ]
  },
  {
   "cell_type": "code",
   "execution_count": 251,
   "metadata": {},
   "outputs": [
    {
     "name": "stdout",
     "output_type": "stream",
     "text": [
      "Qualquer outra string: True\n",
      "Lista com qualquer quantidade de elementos: True\n",
      "Qualquer outro número: True\n",
      "Qualquer outra coisa: True\n"
     ]
    }
   ],
   "source": [
    "print(\n",
    "    f\"Qualquer outra string: {not not 'Caio'}\",\n",
    "    f\"Lista com qualquer quantidade de elementos: {not not [0]}\",\n",
    "    f\"Qualquer outro número: {not not -1}\",\n",
    "    f\"Qualquer outra coisa: {not not object}\",\n",
    "    sep=\"\\n\",\n",
    ")"
   ]
  },
  {
   "cell_type": "markdown",
   "metadata": {},
   "source": [
    "## Condicionais\n",
    "\n",
    "Blocos de código que rodam dependendo do valor de uma expressão booleana."
   ]
  },
  {
   "cell_type": "code",
   "execution_count": 252,
   "metadata": {},
   "outputs": [
    {
     "name": "stdout",
     "output_type": "stream",
     "text": [
      "Ambas são verdadeiras\n"
     ]
    }
   ],
   "source": [
    "# Mude esses valores\n",
    "condition_a = True\n",
    "condition_b = True\n",
    "\n",
    "if condition_a and condition_b:\n",
    "    print('Ambas são verdadeiras')\n",
    "elif condition_a or condition_b:\n",
    "    print('Apenas uma é verdadeira')\n",
    "else:\n",
    "    print('Nenhuma é verdadeira')"
   ]
  },
  {
   "cell_type": "code",
   "execution_count": 253,
   "metadata": {},
   "outputs": [
    {
     "name": "stdout",
     "output_type": "stream",
     "text": [
      "2 é par.\n"
     ]
    }
   ],
   "source": [
    "# Sinta-se livre para testar valores\n",
    "number = 2\n",
    "\n",
    "# Altere esta condição\n",
    "number_is_even = ...\n",
    "\n",
    "if number_is_even:\n",
    "    print(f'{number} é par.')\n",
    "else:\n",
    "    print(f'{number} é ímpar.')"
   ]
  },
  {
   "cell_type": "markdown",
   "metadata": {},
   "source": [
    "### `all()` e `any()`\n",
    "\n",
    "Quando você precisa verificar se todas as condições são satisfeitas.\n",
    "\n",
    "- `all()`: Todas as condições precisam ser satisfeitas\n",
    "- `any()`: Apenas uma precisa ser satisfeita"
   ]
  },
  {
   "cell_type": "code",
   "execution_count": 254,
   "metadata": {},
   "outputs": [
    {
     "name": "stdout",
     "output_type": "stream",
     "text": [
      "Pode dirigir.\n"
     ]
    }
   ],
   "source": [
    "# Brinque à vontade\n",
    "age = 22\n",
    "\n",
    "is_adult = age >= 18\n",
    "have_driving_license = True\n",
    "is_drunk = False\n",
    "\n",
    "conditions = [\n",
    "    is_adult,\n",
    "    have_driving_license,\n",
    "    not is_drunk,\n",
    "]\n",
    "\n",
    "if all(conditions):\n",
    "    print(\"Pode dirigir.\")\n",
    "else:\n",
    "    print(\"Não pode dirigir.\")"
   ]
  },
  {
   "cell_type": "code",
   "execution_count": 255,
   "metadata": {},
   "outputs": [
    {
     "name": "stdout",
     "output_type": "stream",
     "text": [
      "Provavelmente tá safe.\n"
     ]
    }
   ],
   "source": [
    "# Aqui também tá liberado\n",
    "have_terminal_disease = False\n",
    "has_been_shot = False\n",
    "had_an_accident = False\n",
    "\n",
    "conditions = [\n",
    "    have_terminal_disease,\n",
    "    has_been_shot,\n",
    "    had_an_accident,\n",
    "]\n",
    "\n",
    "if any(conditions):\n",
    "    print('Sofre potencial risco de vida.')\n",
    "else:\n",
    "    print('Provavelmente tá safe.')"
   ]
  },
  {
   "cell_type": "markdown",
   "metadata": {},
   "source": [
    "### Expressões\n",
    "\n",
    "Você pode fazer condicionais em uma linha em forma de expressão. \n",
    "\n",
    "Sintaxe: \"esse se verdadeiro, caso contrário, aquele\""
   ]
  },
  {
   "cell_type": "code",
   "execution_count": 256,
   "metadata": {},
   "outputs": [
    {
     "name": "stdout",
     "output_type": "stream",
     "text": [
      "2\n"
     ]
    }
   ],
   "source": [
    "price = 2.50\n",
    "amount = 2 if price < 3 else 1\n",
    "\n",
    "print(amount)"
   ]
  },
  {
   "cell_type": "markdown",
   "metadata": {},
   "source": [
    "## Loops e control flow\n",
    "\n",
    "Define repetições e condições de parada.\n",
    "\n",
    "### Repetições\n",
    "\n",
    "- `for`: Quando você **sabe** quantas repetições terão\n",
    "- `while`: Quando você **não sabe**\n",
    "\n",
    "### Condições de parada\n",
    "\n",
    "- `break`: Sai do loop\n",
    "- `continue`: Pula para a próxima iteração\n"
   ]
  },
  {
   "cell_type": "code",
   "execution_count": 257,
   "metadata": {},
   "outputs": [
    {
     "name": "stdout",
     "output_type": "stream",
     "text": [
      "9 -9\n",
      "8 -8\n",
      "7 -7\n",
      "6 -6\n",
      "5 -5\n",
      "4 -4\n",
      "3 -3\n",
      "2 -2\n",
      "1 -1\n",
      "0 0\n"
     ]
    }
   ],
   "source": [
    "a = 10\n",
    "b = -10\n",
    "while a != b:\n",
    "    a -= 1\n",
    "    b += 1\n",
    "\n",
    "    print(a, b)"
   ]
  },
  {
   "cell_type": "code",
   "execution_count": 258,
   "metadata": {},
   "outputs": [
    {
     "name": "stdout",
     "output_type": "stream",
     "text": [
      "9 -9\n",
      "8 -8\n",
      "7 -7\n",
      "6 -6\n",
      "5 -5\n",
      "4 -4\n",
      "3 -3\n",
      "2 -2\n",
      "1 -1\n",
      "0 0\n"
     ]
    }
   ],
   "source": [
    "a = 10\n",
    "b = -10\n",
    "while True:\n",
    "    a -= 1\n",
    "    b += 1\n",
    "\n",
    "    print(a, b)\n",
    "\n",
    "    if a == b:\n",
    "        break"
   ]
  },
  {
   "cell_type": "markdown",
   "metadata": {},
   "source": [
    "Equivalente em C\n",
    "\n",
    "```c\n",
    "#include <stdio.h>\n",
    "\n",
    "int main(void) {\n",
    "    const char* cars[] = {\n",
    "        \"Corolla\",\n",
    "        \"Civic\",\n",
    "        \"Celta\",\n",
    "        \"Palio\",\n",
    "        \"Uno\",\n",
    "    };\n",
    "\n",
    "    for (int i = 0; i < 5; i++) {\n",
    "        printf(\"%s\\n\", cars[i]);\n",
    "    }\n",
    "\n",
    "    return 0;\n",
    "}\n",
    "```"
   ]
  },
  {
   "cell_type": "code",
   "execution_count": 259,
   "metadata": {},
   "outputs": [
    {
     "name": "stdout",
     "output_type": "stream",
     "text": [
      "Corolla\n",
      "Civic\n",
      "Uno\n",
      "Celta\n",
      "Palio\n"
     ]
    }
   ],
   "source": [
    "cars = [\n",
    "    \"Corolla\",\n",
    "    \"Civic\",\n",
    "    \"Uno\",\n",
    "    \"Celta\",\n",
    "    \"Palio\",\n",
    "]\n",
    "\n",
    "for car in cars:\n",
    "    print(car)"
   ]
  },
  {
   "cell_type": "code",
   "execution_count": 260,
   "metadata": {},
   "outputs": [
    {
     "name": "stdout",
     "output_type": "stream",
     "text": [
      "Corolla\n",
      "Civic\n",
      "Só aceito se tiver escada.\n",
      "Celta\n",
      "Palio\n"
     ]
    }
   ],
   "source": [
    "for car in cars:\n",
    "    if car == \"Uno\":\n",
    "        print(\"Só aceito se tiver escada.\")\n",
    "\n",
    "        continue\n",
    "\n",
    "    print(car)"
   ]
  },
  {
   "cell_type": "code",
   "execution_count": 261,
   "metadata": {},
   "outputs": [
    {
     "name": "stdout",
     "output_type": "stream",
     "text": [
      "0: Corolla\n",
      "1: Civic\n",
      "2: Uno\n",
      "3: Celta\n",
      "4: Palio\n"
     ]
    }
   ],
   "source": [
    "for i, car in enumerate(cars):\n",
    "    print(f\"{i}: {car}\")"
   ]
  },
  {
   "cell_type": "code",
   "execution_count": 262,
   "metadata": {},
   "outputs": [
    {
     "name": "stdout",
     "output_type": "stream",
     "text": [
      "Corolla com bateria arriada :(\n",
      "Civic com pneu careca :(\n",
      "Uno com falta de escada :(\n",
      "Celta com farol queimado :(\n",
      "Palio com retrovisor quebrado :(\n"
     ]
    }
   ],
   "source": [
    "# Tente adicionar um item\n",
    "problems = [\n",
    "    \"bateria arriada\",\n",
    "    \"pneu careca\",\n",
    "    \"falta de escada\",\n",
    "    \"farol queimado\",\n",
    "    \"retrovisor quebrado\",\n",
    "]\n",
    "\n",
    "for car, problem in zip(cars, problems):\n",
    "    print(f\"{car} com {problem} :(\")"
   ]
  },
  {
   "cell_type": "code",
   "execution_count": 263,
   "metadata": {},
   "outputs": [
    {
     "name": "stdout",
     "output_type": "stream",
     "text": [
      "0: Corolla com bateria arriada :(\n",
      "1: Civic com pneu careca :(\n",
      "2: Uno com falta de escada :(\n",
      "3: Celta com farol queimado :(\n",
      "4: Palio com retrovisor quebrado :(\n"
     ]
    }
   ],
   "source": [
    "# Tente tirar o parênteses\n",
    "for i, (car, problem) in enumerate(zip(cars, problems)):\n",
    "    print(f\"{i}: {car} com {problem} :(\")"
   ]
  },
  {
   "cell_type": "markdown",
   "metadata": {},
   "source": [
    "### A \"função\" `range()`\n",
    "\n",
    "Para quando você quiser apenas números"
   ]
  },
  {
   "cell_type": "code",
   "execution_count": 264,
   "metadata": {},
   "outputs": [
    {
     "name": "stdout",
     "output_type": "stream",
     "text": [
      "0\n",
      "1\n",
      "2\n",
      "3\n",
      "4\n"
     ]
    }
   ],
   "source": [
    "for n in range(5):\n",
    "    print(n)"
   ]
  },
  {
   "cell_type": "code",
   "execution_count": 265,
   "metadata": {},
   "outputs": [
    {
     "name": "stdout",
     "output_type": "stream",
     "text": [
      "-3\n",
      "-2\n",
      "-1\n",
      "0\n",
      "1\n",
      "2\n"
     ]
    }
   ],
   "source": [
    "for n in range(-3, 3):\n",
    "    print(n)"
   ]
  },
  {
   "cell_type": "code",
   "execution_count": 266,
   "metadata": {},
   "outputs": [
    {
     "name": "stdout",
     "output_type": "stream",
     "text": [
      "-3\n",
      "-1\n",
      "1\n"
     ]
    }
   ],
   "source": [
    "for n in range(-3, 3, 2):\n",
    "    print(n)"
   ]
  },
  {
   "cell_type": "code",
   "execution_count": 267,
   "metadata": {},
   "outputs": [
    {
     "name": "stdout",
     "output_type": "stream",
     "text": [
      "3\n",
      "2\n",
      "1\n",
      "0\n",
      "-1\n",
      "-2\n"
     ]
    }
   ],
   "source": [
    "for n in range(3, -3, -1):\n",
    "    print(n)"
   ]
  },
  {
   "cell_type": "code",
   "execution_count": 268,
   "metadata": {},
   "outputs": [
    {
     "name": "stdout",
     "output_type": "stream",
     "text": [
      "[0, 1, 2, 3, 4, 5, 6, 7, 8, 9]\n"
     ]
    }
   ],
   "source": [
    "# Tente retirar o cast para lista\n",
    "print(list(range(10)))"
   ]
  },
  {
   "cell_type": "markdown",
   "metadata": {},
   "source": [
    "### `in`\n",
    "\n",
    "Também pode ser usado para verificar se um item está contido em uma coleção.\n"
   ]
  },
  {
   "cell_type": "code",
   "execution_count": 269,
   "metadata": {},
   "outputs": [
    {
     "name": "stdout",
     "output_type": "stream",
     "text": [
      "Tem\n"
     ]
    }
   ],
   "source": [
    "if 'Corolla' in cars:\n",
    "    print('Tem')"
   ]
  },
  {
   "cell_type": "markdown",
   "metadata": {},
   "source": [
    "### Compreensões\n",
    "\n"
   ]
  },
  {
   "cell_type": "code",
   "execution_count": null,
   "metadata": {},
   "outputs": [],
   "source": []
  },
  {
   "cell_type": "markdown",
   "metadata": {},
   "source": [
    "## Funções\n",
    "\n",
    "Porções reutilizáveis de código."
   ]
  },
  {
   "cell_type": "code",
   "execution_count": 270,
   "metadata": {},
   "outputs": [],
   "source": [
    "def say_hi():\n",
    "    print(\"Olá!\")"
   ]
  },
  {
   "cell_type": "code",
   "execution_count": 271,
   "metadata": {},
   "outputs": [
    {
     "name": "stdout",
     "output_type": "stream",
     "text": [
      "Olá!\n"
     ]
    }
   ],
   "source": [
    "say_hi()"
   ]
  },
  {
   "cell_type": "markdown",
   "metadata": {},
   "source": [
    "$f(x) = x^2 - 3x + 2$"
   ]
  },
  {
   "cell_type": "code",
   "execution_count": 272,
   "metadata": {},
   "outputs": [],
   "source": [
    "def f(x):\n",
    "    return x**2 - 3 * x + 2"
   ]
  },
  {
   "cell_type": "code",
   "execution_count": 273,
   "metadata": {},
   "outputs": [
    {
     "name": "stdout",
     "output_type": "stream",
     "text": [
      "72\n"
     ]
    }
   ],
   "source": [
    "result = f(10)\n",
    "print(result)"
   ]
  },
  {
   "cell_type": "markdown",
   "metadata": {},
   "source": [
    "### Type hints\n",
    "\n",
    "Dentro do tópico de funções mas não limitado à ele. Funcionalidade **opcional**\n",
    "que pode, controversamente, melhorar a experiência de desenvolvimento. \n",
    "\n",
    "#### Algumas vantagens:\n",
    "1. Ajuda o IDE a fornecer informações relevantes\n",
    "    - Sugestões automáticas\n",
    "    - Capturar erros antes que eles ocorram\n",
    "2. Força o desenvolvedor a ser intencional sobre o tipo de dado que está sendo\n",
    "utilizado\n",
    "\n",
    "#### Algumas desvantagens:\n",
    "1. Pode acabar sendo uma tarefa complexa\n",
    "2. Nem toda biblioteca define tipos"
   ]
  },
  {
   "cell_type": "code",
   "execution_count": 274,
   "metadata": {},
   "outputs": [],
   "source": [
    "def f(x: float) -> float:\n",
    "    return x**2 - 3 * x + 2"
   ]
  },
  {
   "cell_type": "code",
   "execution_count": 275,
   "metadata": {},
   "outputs": [],
   "source": [
    "user = {\n",
    "    'name': 'Caio',\n",
    "    'age': 22,\n",
    "    'email': 'caio@email.com'\n",
    "}\n",
    "\n",
    "def is_valid(user: dict[str, str | int]) -> bool:\n",
    "    banned_characters = '$_%!.@'\n",
    "    user['name']"
   ]
  },
  {
   "cell_type": "code",
   "execution_count": 276,
   "metadata": {},
   "outputs": [
    {
     "data": {
      "text/plain": [
       "False"
      ]
     },
     "execution_count": 276,
     "metadata": {},
     "output_type": "execute_result"
    }
   ],
   "source": [
    "chars = '!@#$'\n",
    "name = 'Caio$'\n",
    "chars in name"
   ]
  }
 ],
 "metadata": {
  "kernelspec": {
   "display_name": ".venv",
   "language": "python",
   "name": "python3"
  },
  "language_info": {
   "codemirror_mode": {
    "name": "ipython",
    "version": 3
   },
   "file_extension": ".py",
   "mimetype": "text/x-python",
   "name": "python",
   "nbconvert_exporter": "python",
   "pygments_lexer": "ipython3",
   "version": "3.11.5"
  },
  "orig_nbformat": 4
 },
 "nbformat": 4,
 "nbformat_minor": 2
}
