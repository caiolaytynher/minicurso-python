{
 "cells": [
  {
   "cell_type": "markdown",
   "metadata": {},
   "source": [
    "# Fundamentos\n",
    "\n",
    "## Olá mundo!\n",
    "\n",
    "Equivalente em C\n",
    "\n",
    "```c\n",
    "#include <stdio.h>\n",
    "\n",
    "int main(void) {\n",
    "    printf(\"Hello world!\\n\");\n",
    "    return 0;\n",
    "}\n",
    "```\n"
   ]
  },
  {
   "cell_type": "code",
   "execution_count": null,
   "metadata": {},
   "outputs": [],
   "source": [
    "print(\"Hello world!\")"
   ]
  },
  {
   "cell_type": "markdown",
   "metadata": {},
   "source": [
    "## A função `print()`\n"
   ]
  },
  {
   "cell_type": "code",
   "execution_count": null,
   "metadata": {},
   "outputs": [],
   "source": [
    "print(\"Hello world!\")"
   ]
  },
  {
   "cell_type": "markdown",
   "metadata": {},
   "source": [
    "Equivalente em C\n",
    "\n",
    "```c\n",
    "#include <stdio.h>\n",
    "#include <stdbool.h>\n",
    "\n",
    "int main(void) {\n",
    "    printf(\"%d\\n\", 1);    // 1\n",
    "    printf(\"%f\\n\", 1.3);  // 1.3\n",
    "    printf(\"%d\\n\", true); // 1\n",
    "    return 0;\n",
    "}\n",
    "```\n"
   ]
  },
  {
   "cell_type": "code",
   "execution_count": null,
   "metadata": {},
   "outputs": [],
   "source": [
    "print(1)\n",
    "print(1.3)\n",
    "print(True)"
   ]
  },
  {
   "cell_type": "code",
   "execution_count": null,
   "metadata": {},
   "outputs": [],
   "source": [
    "print(\"um número\", 1)\n",
    "print(\"1 + 1 é iqual a\", 1 + 1)"
   ]
  },
  {
   "cell_type": "code",
   "execution_count": null,
   "metadata": {},
   "outputs": [],
   "source": [
    "print(1, 2, 3)"
   ]
  },
  {
   "cell_type": "code",
   "execution_count": null,
   "metadata": {},
   "outputs": [],
   "source": [
    "print(1)\n",
    "print(2)\n",
    "print(3)"
   ]
  },
  {
   "cell_type": "code",
   "execution_count": null,
   "metadata": {},
   "outputs": [],
   "source": [
    "print(1, 2, 3, sep=\"\\n\")"
   ]
  },
  {
   "cell_type": "code",
   "execution_count": null,
   "metadata": {},
   "outputs": [],
   "source": [
    "print(1, 2, 3, sep=\", \")"
   ]
  },
  {
   "cell_type": "code",
   "execution_count": null,
   "metadata": {},
   "outputs": [],
   "source": [
    "print(1, end=\" \")\n",
    "print(2, end=\" \")\n",
    "print(3)"
   ]
  },
  {
   "cell_type": "markdown",
   "metadata": {},
   "source": [
    "## Formatação de texto\n"
   ]
  },
  {
   "cell_type": "code",
   "execution_count": null,
   "metadata": {},
   "outputs": [],
   "source": [
    "print(f\"número {1}\")"
   ]
  },
  {
   "cell_type": "code",
   "execution_count": null,
   "metadata": {},
   "outputs": [],
   "source": [
    "print(\n",
    "    f\"1 + 1 = {1 + 1}\",\n",
    "    f\"{1 + 1 = }\",\n",
    "    sep=\"\\n\",\n",
    ")"
   ]
  },
  {
   "cell_type": "code",
   "execution_count": null,
   "metadata": {},
   "outputs": [],
   "source": [
    "print(\n",
    "    f\"Um terço: {1 / 3}\",\n",
    "    f\"Um terço: {1 / 3:.2f}\",\n",
    "    f\"{1 / 3 = :.2f}\",\n",
    "    sep=\"\\n\",\n",
    ")"
   ]
  },
  {
   "cell_type": "code",
   "execution_count": null,
   "metadata": {},
   "outputs": [],
   "source": [
    "# Tente remover os underlines (_) ou muda-los de lugar\n",
    "print(\n",
    "    f\"{1_000_000 = }\",\n",
    "    f\"{1e6 = }\",\n",
    "    f\"{1_000_000 = :,}\",\n",
    "    f\"{1_000_000 = :.2e}\",\n",
    "    sep=\"\\n\",\n",
    ")"
   ]
  },
  {
   "cell_type": "code",
   "execution_count": null,
   "metadata": {},
   "outputs": [],
   "source": [
    "print(\n",
    "    f\"{18555e-6 = }\",\n",
    "    f\"{18555e-6 = :.2e}\",\n",
    "    sep=\"\\n\",\n",
    ")"
   ]
  },
  {
   "cell_type": "markdown",
   "metadata": {},
   "source": [
    "## Variáveis\n",
    "\n",
    "Variáveis em C\n",
    "\n",
    "```c\n",
    "int main(void) {\n",
    "    const char* text = \"Oi, eu sou um texto.\";\n",
    "    int number = 1;\n",
    "\n",
    "    return 0;\n",
    "}\n",
    "```\n"
   ]
  },
  {
   "cell_type": "code",
   "execution_count": null,
   "metadata": {},
   "outputs": [],
   "source": [
    "text = \"Oi, eu sou um texto.\"\n",
    "number = 1\n",
    "\n",
    "print(text)\n",
    "print(number)\n",
    "print(number, text)"
   ]
  },
  {
   "cell_type": "code",
   "execution_count": null,
   "metadata": {},
   "outputs": [],
   "source": [
    "name = \"Caio\"\n",
    "age = 22\n",
    "print(f\"Meu nome é {name} e eu tenho {age}.\")"
   ]
  },
  {
   "cell_type": "code",
   "execution_count": null,
   "metadata": {},
   "outputs": [],
   "source": [
    "result = 1 / 3\n",
    "print(f\"{result = :.2f}\")"
   ]
  },
  {
   "cell_type": "markdown",
   "metadata": {},
   "source": [
    "### Constantes"
   ]
  },
  {
   "cell_type": "code",
   "execution_count": null,
   "metadata": {},
   "outputs": [],
   "source": [
    "variable = \"variável\"\n",
    "CONSTANT = \"constante\"  # Tente me redefinir\n",
    "\n",
    "print(f\"Antes: {variable = }\")\n",
    "\n",
    "# Redefinindo variável. Nada impede que o valor seja redefinido para um\n",
    "# valor de tipo completamente diferente. Seu editor pode reclamar,\n",
    "# entretanto.\n",
    "variable = \"outro valor\"  \n",
    "\n",
    "print(f\"Depois: {variable = }\")"
   ]
  },
  {
   "cell_type": "markdown",
   "metadata": {},
   "source": [
    "## Tipos de dados primitivos\n",
    "\n",
    "### Numéricos:\n",
    "\n",
    "- `int`: Números inteiros $\\mathbb{Z}$\n",
    "- `float`: Números racionais $\\mathbb{Q}$\n",
    "- `complex`: Números complexos $\\mathbb{C}$\n"
   ]
  },
  {
   "cell_type": "code",
   "execution_count": null,
   "metadata": {},
   "outputs": [],
   "source": [
    "# Mude esses valores\n",
    "a = 2\n",
    "b = 3\n",
    "\n",
    "print(\n",
    "    f\"Tipo:            {type(a)}\",\n",
    "    f\"Adição:          {a + b   = }\",\n",
    "    f\"Subtração:       {a - b   = }\",\n",
    "    f\"Multiplicação:   {a * b   = }\",\n",
    "    f\"Potenciação:     {a**b    = }\",\n",
    "    f\"Divisão:         {a / b   = }\",\n",
    "    f\"Divisão inteira: {a // b  = }\",\n",
    "    f\"Resto:           {a % b   = }\",\n",
    "    sep=\"\\n\",\n",
    ")"
   ]
  },
  {
   "cell_type": "code",
   "execution_count": null,
   "metadata": {},
   "outputs": [],
   "source": [
    "# Mude esses também\n",
    "a = 2.2\n",
    "b = 3.3\n",
    "\n",
    "print(\n",
    "    f\"Tipo:            {type(a)}\",\n",
    "    f\"Adição:          {a + b  = }\",\n",
    "    f\"Subtração:       {a - b  = }\",\n",
    "    f\"Multiplicação:   {a * b  = }\",\n",
    "    f\"Potenciação:     {a**b   = }\",\n",
    "    f\"Divisão:         {a / b  = }\",\n",
    "    f\"Divisão inteira: {a // b = }\",\n",
    "    f\"Resto:           {a % b  = }\",\n",
    "    sep=\"\\n\",\n",
    ")"
   ]
  },
  {
   "cell_type": "code",
   "execution_count": null,
   "metadata": {},
   "outputs": [],
   "source": [
    "# Já sabe né?\n",
    "a = 1 + 2.2j\n",
    "b = 2.2 + 1j\n",
    "\n",
    "print(\n",
    "    f\"Tipo:            {type(a)}\",\n",
    "    f\"Adição:          {a + b  = }\",\n",
    "    f\"Subtração:       {a - b  = }\",\n",
    "    f\"Multiplicação:   {a * b  = }\",\n",
    "    f\"Potenciação:     {a**b   = }\",\n",
    "    f\"Divisão:         {a / b  = }\",\n",
    "    sep=\"\\n\",\n",
    ")"
   ]
  },
  {
   "cell_type": "markdown",
   "metadata": {},
   "source": [
    "### Textual: `str`"
   ]
  },
  {
   "cell_type": "code",
   "execution_count": null,
   "metadata": {},
   "outputs": [],
   "source": [
    "print(\n",
    "    \"Sou um texto\",\n",
    "    f\"Sou um texto formatado {1}\",\n",
    "    r\"Sou um texto cru {1}.\\n\",\n",
    "    \"\"\"\n",
    "    Sou um texto\n",
    "    multi linha.\n",
    "    \"\"\",\n",
    "    sep=\"\\n\",\n",
    ")"
   ]
  },
  {
   "cell_type": "code",
   "execution_count": null,
   "metadata": {},
   "outputs": [],
   "source": [
    "print(\n",
    "    type(\"Sou um texto\"),\n",
    "    type(f\"Sou um texto formatado {1}\"),\n",
    "    type(r\"Sou um texto cru {1}.\\n\"),\n",
    "    type(\n",
    "        \"\"\"\n",
    "        Sou um texto\n",
    "        multi linha.\n",
    "        \"\"\"\n",
    "    ),\n",
    "    sep=\"\\n\",\n",
    ")"
   ]
  },
  {
   "cell_type": "code",
   "execution_count": null,
   "metadata": {},
   "outputs": [],
   "source": [
    "print(\n",
    "    \"um texto \" + \"outro texto\",\n",
    "    \"um texto \" * 3,\n",
    "    sep=\"\\n\",\n",
    ")"
   ]
  },
  {
   "cell_type": "markdown",
   "metadata": {},
   "source": [
    "### Lógico: `bool`\n",
    "\n",
    "Valores verdadeiros ou falsos. Abreviação de \"booleano\"."
   ]
  },
  {
   "cell_type": "code",
   "execution_count": null,
   "metadata": {},
   "outputs": [],
   "source": [
    "a = True\n",
    "b = False\n",
    "\n",
    "print(\n",
    "    f\"{a = }, {type(a) = }\",\n",
    "    f\"{b = }, {type(b) = }\",\n",
    "    sep=\"\\n\",\n",
    ")"
   ]
  },
  {
   "cell_type": "markdown",
   "metadata": {},
   "source": [
    "#### Cast\n",
    "\n",
    "Castar um tipo é converter um em outro **quando possível**."
   ]
  },
  {
   "cell_type": "code",
   "execution_count": null,
   "metadata": {},
   "outputs": [],
   "source": [
    "str_number = '1'\n",
    "int_number = int(str_number)\n",
    "float_number = float(str_number)\n",
    "\n",
    "print(\n",
    "    f'{str_number!r}',  # Equivalente a chamar repr() no objeto\n",
    "    f'{int_number!r}',\n",
    "    f'{float_number!r}',\n",
    "    sep='\\n',\n",
    ")"
   ]
  },
  {
   "cell_type": "markdown",
   "metadata": {},
   "source": [
    "### Métodos e propriedades\n",
    "\n",
    "- Método: Uma função que faz parte de um objeto ou classe\n",
    "- Propriedade: Uma variável que faz parte de um objeto ou classe\n",
    "\n",
    "Ambos são acessados por meio de um ponto (`.`)"
   ]
  },
  {
   "cell_type": "code",
   "execution_count": null,
   "metadata": {},
   "outputs": [],
   "source": [
    "number = 1 + 2j\n",
    "\n",
    "print(number.real, number.imag)"
   ]
  },
  {
   "cell_type": "code",
   "execution_count": null,
   "metadata": {},
   "outputs": [],
   "source": [
    "name = \"Caio\"\n",
    "print(\n",
    "    f\"Começa com C? {name.startswith('C')}\",\n",
    "    f\"Termina com o? {name.endswith('o')}\",\n",
    "    f\"É um número? {name.isdigit()}\",\n",
    "    f\"Tudo maiúsculo: {name.upper()}\",\n",
    "    f\"Tudo minúsculo: {name.lower()}\",\n",
    "    sep=\"\\n\",\n",
    ")"
   ]
  },
  {
   "cell_type": "markdown",
   "metadata": {},
   "source": [
    "### Coleções\n",
    "\n",
    "- `list`: listas\n",
    "- `set`: conjuntos\n",
    "- `tuple`: tupla (???)\n",
    "- `dict`: dicionários\n"
   ]
  },
  {
   "cell_type": "code",
   "execution_count": null,
   "metadata": {},
   "outputs": [],
   "source": [
    "items = [1, 1, 2.0, \"Caio\", \"Caio\", True]  # Mutável, ordenado\n",
    "unique_items = {1, 1, 2.0, \"Caio\", \"Caio\", True}  # Mutável, desordenado\n",
    "user_info = (\"Caio\", 22)  # Imutável, ordenado\n",
    "user = {  # Mutável, pares de chave e valor\n",
    "    \"name\": \"Caio\",\n",
    "    \"age\": 22,\n",
    "}\n",
    "\n",
    "print(\n",
    "    f\"{items = }, {type(items)}\",\n",
    "    f\"{unique_items = }, {type(unique_items)}\",\n",
    "    f\"{user_info = }, {type(user_info)}\",\n",
    "    f\"{user = }, {type(user)}\",\n",
    "    sep=\"\\n\",\n",
    ")"
   ]
  },
  {
   "cell_type": "markdown",
   "metadata": {},
   "source": [
    "#### Como acessar os seus itens"
   ]
  },
  {
   "cell_type": "code",
   "execution_count": null,
   "metadata": {},
   "outputs": [],
   "source": [
    "characters = [\n",
    "    \"a\",  # 0 ou -4\n",
    "    \"b\",  # 1 ou -3\n",
    "    \"c\",  # 2 ou -2\n",
    "    \"d\",  # 3 ou -1\n",
    "]\n",
    "\n",
    "print(\n",
    "    f\"{characters[0] = }\",\n",
    "    f\"{characters[-1] = }\",\n",
    "    sep=\"\\n\",\n",
    ")\n",
    "\n",
    "print(f\"Antes: {characters[1] = }\")\n",
    "characters[1] = \"bazinga\"  # Nada impede desse valor ser diferente de uma str\n",
    "print(f\"Depois: {characters[1] = }\")"
   ]
  },
  {
   "cell_type": "code",
   "execution_count": null,
   "metadata": {},
   "outputs": [],
   "source": [
    "# Indexação com tuples funcionam da mesma maneira\n",
    "numbers = (1, 2, 3)\n",
    "\n",
    "print(\n",
    "    f\"{numbers[0] = }\",\n",
    "    f\"{numbers[-1] = }\",\n",
    "    sep=\"\\n\",\n",
    ")\n"
   ]
  },
  {
   "cell_type": "code",
   "execution_count": null,
   "metadata": {},
   "outputs": [],
   "source": [
    "# Tentar modificar o valor de uma tuple vai causar um erro. Descomente o\n",
    "# código abaixo para verificar\n",
    "\n",
    "# numbers[0] = 4  # Vai dar erro!"
   ]
  },
  {
   "cell_type": "code",
   "execution_count": null,
   "metadata": {},
   "outputs": [],
   "source": [
    "# Não dá para acessar itens de um set pois não são ordenados. Descomente\n",
    "# o código abaixo para verificar\n",
    "\n",
    "# unique_items[0]  # Vai dar erro"
   ]
  },
  {
   "cell_type": "code",
   "execution_count": null,
   "metadata": {},
   "outputs": [],
   "source": [
    "# Para acessar valores de dicts, utilize suas chaves\n",
    "print(\n",
    "    f\"{user['name'] = }\",\n",
    "    f\"{user['age'] = }\",\n",
    "    sep=\"\\n\",\n",
    ")"
   ]
  },
  {
   "cell_type": "code",
   "execution_count": null,
   "metadata": {},
   "outputs": [],
   "source": [
    "# Valores são mutáveis\n",
    "user[\"age\"] = 23\n",
    "\n",
    "print(user[\"age\"])"
   ]
  },
  {
   "cell_type": "code",
   "execution_count": null,
   "metadata": {},
   "outputs": [],
   "source": [
    "# Dá pra adicionar elementos\n",
    "user[\"email\"] = \"caio@email.com\"\n",
    "\n",
    "print(user)"
   ]
  },
  {
   "cell_type": "markdown",
   "metadata": {},
   "source": [
    "#### Slicing\n",
    "\n",
    "Basicamente sublistas"
   ]
  },
  {
   "cell_type": "code",
   "execution_count": null,
   "metadata": {},
   "outputs": [],
   "source": [
    "# Sintaxe: [início (inclusivo) : final (exclusivo) : passo]\n",
    "# Deixar em branco: vai do início até o fim de 1 em 1\n",
    "values = [\"a\", \"b\", \"c\", \"d\", \"e\", \"f\", \"g\"]\n",
    "\n",
    "print(\n",
    "    f\"Cópia da lista: {values[::] = }\",\n",
    "    f\"Do segundo até o terceiro: {values[1:4] = }\",\n",
    "    f\"Do início até o terceiro: {values[:4] = }\",\n",
    "    f\"Do terceiro até o último: {values[4:] = }\",\n",
    "    f\"Excluindo o último item: {values[:-1] = }\",\n",
    "    f\"De 2 em 2: {values[::2] = }\",\n",
    "    f\"Invertido: {values[::-1] = }\",\n",
    "    sep=\"\\n\",\n",
    ")"
   ]
  },
  {
   "cell_type": "markdown",
   "metadata": {},
   "source": [
    "#### Desempacotamento"
   ]
  },
  {
   "cell_type": "code",
   "execution_count": null,
   "metadata": {},
   "outputs": [],
   "source": [
    "# tuples e lists podem ser desempacotados!\n",
    "a, b, c, d = characters\n",
    "x, y, z = numbers\n",
    "\n",
    "print(a, b, c, d, x, y, z)"
   ]
  },
  {
   "cell_type": "code",
   "execution_count": null,
   "metadata": {},
   "outputs": [],
   "source": [
    "# Curiosamente, strings também\n",
    "a, b, c = \"abc\"\n",
    "\n",
    "print(a, b, c)"
   ]
  },
  {
   "cell_type": "code",
   "execution_count": null,
   "metadata": {},
   "outputs": [],
   "source": [
    "# * desempacota os valores dentro de funções\n",
    "print(*characters, *numbers)"
   ]
  },
  {
   "cell_type": "code",
   "execution_count": null,
   "metadata": {},
   "outputs": [],
   "source": [
    "# tuples não precisam de parênteses para serem definidos\n",
    "a, b = 1, 2\n",
    "\n",
    "print(a, b)"
   ]
  },
  {
   "cell_type": "code",
   "execution_count": null,
   "metadata": {},
   "outputs": [],
   "source": [
    "# Por causa do desempacotamento, tuplas que contém valores únicos\n",
    "# precisam ser definidas com uma vírgula depois do seu valor\n",
    "single_valued_tuple = (1,)\n",
    "also_tuple = 1,\n",
    "not_a_tuple = 1\n",
    "\n",
    "print(\n",
    "    f\"{single_valued_tuple = }, {type(single_valued_tuple)}\",\n",
    "    f\"{also_tuple = }, {type(also_tuple)}\",\n",
    "    f\"{not_a_tuple = }, {type(not_a_tuple)}\",\n",
    "    sep=\"\\n\",\n",
    ")"
   ]
  },
  {
   "cell_type": "markdown",
   "metadata": {},
   "source": [
    "### Métodos e propriedades\n",
    "\n",
    "- `list`"
   ]
  },
  {
   "cell_type": "code",
   "execution_count": null,
   "metadata": {},
   "outputs": [],
   "source": [
    "names = [\n",
    "    \"Power Guido\",\n",
    "    \"Cuca Beludo\",\n",
    "    \"Giuseppe Camole\",\n",
    "    \"Deide Costa\",\n",
    "]\n",
    "\n",
    "print(names)"
   ]
  },
  {
   "cell_type": "code",
   "execution_count": null,
   "metadata": {},
   "outputs": [],
   "source": [
    "names.append(\"...\")  # Escolha um nome\n",
    "print(names)"
   ]
  },
  {
   "cell_type": "code",
   "execution_count": null,
   "metadata": {},
   "outputs": [],
   "source": [
    "idx = names.index(\"Giuseppe Camole\")\n",
    "print(idx)"
   ]
  },
  {
   "cell_type": "code",
   "execution_count": null,
   "metadata": {},
   "outputs": [],
   "source": [
    "names.append(\"Power Guido\")\n",
    "amount = names.count(\"Power Guido\")\n",
    "print(amount)"
   ]
  },
  {
   "cell_type": "code",
   "execution_count": null,
   "metadata": {},
   "outputs": [],
   "source": [
    "names.remove(\"Power Guido\")\n",
    "print(names)"
   ]
  },
  {
   "cell_type": "code",
   "execution_count": null,
   "metadata": {},
   "outputs": [],
   "source": [
    "last_name = names.pop()\n",
    "print(names, last_name)"
   ]
  },
  {
   "cell_type": "markdown",
   "metadata": {},
   "source": [
    "- `dict`"
   ]
  },
  {
   "cell_type": "code",
   "execution_count": null,
   "metadata": {},
   "outputs": [],
   "source": [
    "user = {\n",
    "    \"name\": \"Caio\",\n",
    "    \"age\": 22,\n",
    "    \"email\": \"caio@email.com\",\n",
    "}\n",
    "\n",
    "print(\n",
    "    user.keys(),\n",
    "    user.values(),\n",
    "    user.items(),\n",
    "    sep=\"\\n\",\n",
    ")"
   ]
  },
  {
   "cell_type": "markdown",
   "metadata": {},
   "source": [
    "### `min()`, `max()`, `len()` e `sum()`"
   ]
  },
  {
   "cell_type": "code",
   "execution_count": null,
   "metadata": {},
   "outputs": [],
   "source": [
    "lst = [1, 2, 3, 4]\n",
    "\n",
    "print(\n",
    "    f\"Tamanho: {len(lst)}\",\n",
    "    f\"Mínimo: {min(lst)}\",\n",
    "    f\"Máximo: {max(lst)}\",\n",
    "    f\"Soma: {sum(lst)}\",\n",
    "    sep=\"\\n\",\n",
    ")"
   ]
  },
  {
   "cell_type": "code",
   "execution_count": null,
   "metadata": {},
   "outputs": [],
   "source": [
    "name = \"Caio Laytynher\"\n",
    "\n",
    "print(len(name))"
   ]
  },
  {
   "cell_type": "code",
   "execution_count": null,
   "metadata": {},
   "outputs": [],
   "source": [
    "print(\n",
    "    len((1, 2, 3)),\n",
    "    len({1, 2, 3}),\n",
    ")"
   ]
  },
  {
   "cell_type": "code",
   "execution_count": null,
   "metadata": {},
   "outputs": [],
   "source": [
    "d = {\"a\": 3, \"b\": 2, \"c\": 1}\n",
    "print(max(d), min(d), len(d))"
   ]
  },
  {
   "cell_type": "code",
   "execution_count": null,
   "metadata": {},
   "outputs": [],
   "source": [
    "print(max(d.values()), min(d.values()))"
   ]
  },
  {
   "cell_type": "markdown",
   "metadata": {},
   "source": [
    "## Expressões booleanas\n",
    "\n",
    "Expressões que avaliam para verdadeiro ou falso.\n",
    "\n",
    "### Comparação"
   ]
  },
  {
   "cell_type": "code",
   "execution_count": null,
   "metadata": {},
   "outputs": [],
   "source": [
    "# Mude estes valores\n",
    "a = 1\n",
    "b = 1\n",
    "\n",
    "print(\n",
    "    f\"Igualdade:      {a == b = }\",\n",
    "    f\"Maior:          {a > b  = }\",\n",
    "    f\"Maior ou igual: {a >= b = }\",\n",
    "    f\"Menor:          {a < b  = }\",\n",
    "    f\"Menor ou igual: {a <= b = }\",\n",
    "    sep=\"\\n\",\n",
    ")"
   ]
  },
  {
   "cell_type": "markdown",
   "metadata": {},
   "source": [
    "### Operadores lógicos"
   ]
  },
  {
   "cell_type": "code",
   "execution_count": null,
   "metadata": {},
   "outputs": [],
   "source": [
    "condition_a = True\n",
    "condition_b = True\n",
    "\n",
    "print(\n",
    "    f\"{condition_a and condition_b = }\",\n",
    "    f\"{condition_a or condition_b = }\",\n",
    "    f\"{not condition_a = }\",\n",
    "    f\"{not condition_b = }\",\n",
    "    f\"{condition_a is True = }\",\n",
    "    f\"{condition_b is False = }\",\n",
    "    sep=\"\\n\",\n",
    ")"
   ]
  },
  {
   "cell_type": "markdown",
   "metadata": {},
   "source": [
    "### `is` vs `==`\n",
    "- `is` compara o `id` dos objetos\n",
    "- `==` compara apenas os valores"
   ]
  },
  {
   "cell_type": "code",
   "execution_count": null,
   "metadata": {},
   "outputs": [],
   "source": [
    "list_a = [1, 2, 3]\n",
    "list_b = [1, 2, 3]\n",
    "list_c = list_a  # Cria um alias\n",
    "\n",
    "print(\n",
    "    f'{list_a == list_b = }',\n",
    "    f'{list_a == list_c = }',\n",
    "    f'{list_a is list_b = }',\n",
    "    f'{list_a is list_c = }',\n",
    "    f'{id(list_a) == id(list_b) = }',\n",
    "    f'{id(list_a) == id(list_c) = }',\n",
    "    sep='\\n',\n",
    ")"
   ]
  },
  {
   "cell_type": "markdown",
   "metadata": {},
   "source": [
    "Devemos usar `is` ao comparar com tipos primitivos"
   ]
  },
  {
   "cell_type": "code",
   "execution_count": null,
   "metadata": {},
   "outputs": [],
   "source": [
    "# Pode brincar à vontade\n",
    "condition = 1 < 2\n",
    "nothing = None\n",
    "\n",
    "print(\n",
    "    f\"{condition is True = }\",\n",
    "    f\"{condition is False = }\",\n",
    "    f\"{nothing is None = }\",\n",
    "    f\"{condition is not True = }\",\n",
    "    f\"{condition is not False = }\",\n",
    "    f\"{nothing is not None = }\",\n",
    "    sep=\"\\n\",\n",
    ")"
   ]
  },
  {
   "cell_type": "markdown",
   "metadata": {},
   "source": [
    "### Falsidade de objetos\n",
    "\n",
    "Alguns objetos em Python têm equivalência de um valor falso."
   ]
  },
  {
   "cell_type": "code",
   "execution_count": null,
   "metadata": {},
   "outputs": [],
   "source": [
    "print(\n",
    "    f\"String vazia: {not not ''}\",\n",
    "    f\"Lista vazia: {not not []}\",\n",
    "    f\"Zero: {not not 0}\",\n",
    "    f\"Nenhum: {not not None}\",\n",
    "    sep=\"\\n\",\n",
    ")"
   ]
  },
  {
   "cell_type": "markdown",
   "metadata": {},
   "source": [
    "Automaticamente, as variantes não vazias são consideradas verdadeiras."
   ]
  },
  {
   "cell_type": "code",
   "execution_count": null,
   "metadata": {},
   "outputs": [],
   "source": [
    "print(\n",
    "    f\"Qualquer outra string: {not not 'Caio'}\",\n",
    "    f\"Lista com qualquer quantidade de elementos: {not not [0]}\",\n",
    "    f\"Qualquer outro número: {not not -1}\",\n",
    "    f\"Qualquer outra coisa: {not not object}\",\n",
    "    sep=\"\\n\",\n",
    ")"
   ]
  },
  {
   "cell_type": "markdown",
   "metadata": {},
   "source": [
    "## Condicionais\n",
    "\n",
    "Blocos de código que rodam dependendo do valor de uma expressão booleana."
   ]
  },
  {
   "cell_type": "code",
   "execution_count": null,
   "metadata": {},
   "outputs": [],
   "source": [
    "# Mude esses valores\n",
    "condition_a = True\n",
    "condition_b = True\n",
    "\n",
    "if condition_a and condition_b:\n",
    "    print('Ambas são verdadeiras')\n",
    "elif condition_a or condition_b:\n",
    "    print('Apenas uma é verdadeira')\n",
    "else:\n",
    "    print('Nenhuma é verdadeira')"
   ]
  },
  {
   "cell_type": "code",
   "execution_count": null,
   "metadata": {},
   "outputs": [],
   "source": [
    "# Sinta-se livre para testar valores\n",
    "number = 2\n",
    "\n",
    "# Altere esta condição\n",
    "number_is_even = ...\n",
    "\n",
    "if number_is_even:\n",
    "    print(f'{number} é par.')\n",
    "else:\n",
    "    print(f'{number} é ímpar.')"
   ]
  },
  {
   "cell_type": "markdown",
   "metadata": {},
   "source": [
    "### `all()` e `any()`\n",
    "\n",
    "Quando você precisa verificar se todas as condições são satisfeitas.\n",
    "\n",
    "- `all()`: Todas as condições precisam ser satisfeitas\n",
    "- `any()`: Apenas uma precisa ser satisfeita"
   ]
  },
  {
   "cell_type": "code",
   "execution_count": null,
   "metadata": {},
   "outputs": [],
   "source": [
    "# Brinque à vontade\n",
    "age = 22\n",
    "\n",
    "is_adult = age >= 18\n",
    "have_driving_license = True\n",
    "is_drunk = False\n",
    "\n",
    "conditions = [\n",
    "    is_adult,\n",
    "    have_driving_license,\n",
    "    not is_drunk,\n",
    "]\n",
    "\n",
    "if all(conditions):\n",
    "    print(\"Pode dirigir.\")\n",
    "else:\n",
    "    print(\"Não pode dirigir.\")"
   ]
  },
  {
   "cell_type": "code",
   "execution_count": null,
   "metadata": {},
   "outputs": [],
   "source": [
    "# Aqui também tá liberado\n",
    "have_terminal_disease = False\n",
    "has_been_shot = False\n",
    "had_an_accident = False\n",
    "\n",
    "conditions = [\n",
    "    have_terminal_disease,\n",
    "    has_been_shot,\n",
    "    had_an_accident,\n",
    "]\n",
    "\n",
    "if any(conditions):\n",
    "    print('Sofre potencial risco de vida.')\n",
    "else:\n",
    "    print('Provavelmente tá safe.')"
   ]
  },
  {
   "cell_type": "markdown",
   "metadata": {},
   "source": [
    "### Expressões\n",
    "\n",
    "Você pode fazer condicionais em uma linha em forma de expressão. \n",
    "\n",
    "Sintaxe: \"esse se verdadeiro, caso contrário, aquele\""
   ]
  },
  {
   "cell_type": "code",
   "execution_count": null,
   "metadata": {},
   "outputs": [],
   "source": [
    "price = 2.50\n",
    "amount = 2 if price < 3 else 1\n",
    "\n",
    "print(amount)"
   ]
  },
  {
   "cell_type": "markdown",
   "metadata": {},
   "source": [
    "## Loops e control flow\n",
    "\n",
    "Define repetições e condições de parada.\n",
    "\n",
    "### Repetições\n",
    "\n",
    "- `for`: Quando você **sabe** quantas repetições terão\n",
    "- `while`: Quando você **não sabe**\n",
    "\n",
    "### Condições de parada\n",
    "\n",
    "- `break`: Sai do loop\n",
    "- `continue`: Pula para a próxima iteração\n"
   ]
  },
  {
   "cell_type": "code",
   "execution_count": null,
   "metadata": {},
   "outputs": [],
   "source": [
    "a = 10\n",
    "b = -10\n",
    "while a != b:\n",
    "    a -= 1\n",
    "    b += 1\n",
    "\n",
    "    print(a, b)"
   ]
  },
  {
   "cell_type": "code",
   "execution_count": null,
   "metadata": {},
   "outputs": [],
   "source": [
    "a = 10\n",
    "b = -10\n",
    "while True:\n",
    "    a -= 1\n",
    "    b += 1\n",
    "\n",
    "    print(a, b)\n",
    "\n",
    "    if a == b:\n",
    "        break"
   ]
  },
  {
   "cell_type": "markdown",
   "metadata": {},
   "source": [
    "Equivalente em C\n",
    "\n",
    "```c\n",
    "#include <stdio.h>\n",
    "\n",
    "int main(void) {\n",
    "    const char* cars[] = {\n",
    "        \"Corolla\",\n",
    "        \"Civic\",\n",
    "        \"Celta\",\n",
    "        \"Palio\",\n",
    "        \"Uno\",\n",
    "    };\n",
    "\n",
    "    for (int i = 0; i < 5; i++) {\n",
    "        printf(\"%s\\n\", cars[i]);\n",
    "    }\n",
    "\n",
    "    return 0;\n",
    "}\n",
    "```"
   ]
  },
  {
   "cell_type": "code",
   "execution_count": null,
   "metadata": {},
   "outputs": [],
   "source": [
    "cars = [\n",
    "    \"Corolla\",\n",
    "    \"Civic\",\n",
    "    \"Uno\",\n",
    "    \"Celta\",\n",
    "    \"Palio\",\n",
    "]\n",
    "\n",
    "for car in cars:\n",
    "    print(car)"
   ]
  },
  {
   "cell_type": "code",
   "execution_count": null,
   "metadata": {},
   "outputs": [],
   "source": [
    "for car in cars:\n",
    "    if car == \"Uno\":\n",
    "        print(\"Só aceito se tiver escada.\")\n",
    "\n",
    "        continue\n",
    "\n",
    "    print(car)"
   ]
  },
  {
   "cell_type": "code",
   "execution_count": null,
   "metadata": {},
   "outputs": [],
   "source": [
    "for i, car in enumerate(cars):\n",
    "    print(f\"{i}: {car}\")"
   ]
  },
  {
   "cell_type": "code",
   "execution_count": null,
   "metadata": {},
   "outputs": [],
   "source": [
    "# Tente adicionar um item\n",
    "problems = [\n",
    "    \"bateria arriada\",\n",
    "    \"pneu careca\",\n",
    "    \"falta de escada\",\n",
    "    \"farol queimado\",\n",
    "    \"retrovisor quebrado\",\n",
    "]\n",
    "\n",
    "for car, problem in zip(cars, problems):\n",
    "    print(f\"{car} com {problem} :(\")"
   ]
  },
  {
   "cell_type": "code",
   "execution_count": null,
   "metadata": {},
   "outputs": [],
   "source": [
    "# Tente tirar o parênteses\n",
    "for i, (car, problem) in enumerate(zip(cars, problems)):\n",
    "    print(f\"{i}: {car} com {problem} :(\")"
   ]
  },
  {
   "cell_type": "markdown",
   "metadata": {},
   "source": [
    "### `for` em `dict`"
   ]
  },
  {
   "cell_type": "code",
   "execution_count": null,
   "metadata": {},
   "outputs": [],
   "source": [
    "user = {\n",
    "    'name': 'Caio',\n",
    "    'age': 22,\n",
    "    'email': 'caio@gmail.com',\n",
    "}\n",
    "\n",
    "for key in user:\n",
    "    print(key)"
   ]
  },
  {
   "cell_type": "code",
   "execution_count": null,
   "metadata": {},
   "outputs": [],
   "source": [
    "for value in user.values():\n",
    "    print(value)"
   ]
  },
  {
   "cell_type": "code",
   "execution_count": null,
   "metadata": {},
   "outputs": [],
   "source": [
    "for key, value in user.items():\n",
    "    print(key, value)"
   ]
  },
  {
   "cell_type": "markdown",
   "metadata": {},
   "source": [
    "### A \"função\" `range()`\n",
    "\n",
    "Para quando você quiser apenas números"
   ]
  },
  {
   "cell_type": "code",
   "execution_count": null,
   "metadata": {},
   "outputs": [],
   "source": [
    "for n in range(5):\n",
    "    print(n)"
   ]
  },
  {
   "cell_type": "code",
   "execution_count": null,
   "metadata": {},
   "outputs": [],
   "source": [
    "for n in range(-3, 3):\n",
    "    print(n)"
   ]
  },
  {
   "cell_type": "code",
   "execution_count": null,
   "metadata": {},
   "outputs": [],
   "source": [
    "for n in range(-3, 3, 2):\n",
    "    print(n)"
   ]
  },
  {
   "cell_type": "code",
   "execution_count": null,
   "metadata": {},
   "outputs": [],
   "source": [
    "for n in range(3, -3, -1):\n",
    "    print(n)"
   ]
  },
  {
   "cell_type": "code",
   "execution_count": null,
   "metadata": {},
   "outputs": [],
   "source": [
    "# Tente retirar o cast para lista\n",
    "print(list(range(10)))"
   ]
  },
  {
   "cell_type": "markdown",
   "metadata": {},
   "source": [
    "### Outros usos do `in`\n",
    "\n",
    "Também pode ser usado para verificar se um item está contido em uma coleção.\n"
   ]
  },
  {
   "cell_type": "code",
   "execution_count": null,
   "metadata": {},
   "outputs": [],
   "source": [
    "if 'Corolla' in cars:\n",
    "    print('Tem')"
   ]
  },
  {
   "cell_type": "markdown",
   "metadata": {},
   "source": [
    "## Funções\n",
    "\n",
    "Porções reutilizáveis de código."
   ]
  },
  {
   "cell_type": "code",
   "execution_count": null,
   "metadata": {},
   "outputs": [],
   "source": [
    "def say_hi():\n",
    "    print(\"Olá!\")"
   ]
  },
  {
   "cell_type": "code",
   "execution_count": null,
   "metadata": {},
   "outputs": [],
   "source": [
    "say_hi()"
   ]
  },
  {
   "cell_type": "markdown",
   "metadata": {},
   "source": [
    "$f(x) = x^2 - 3x + 2$"
   ]
  },
  {
   "cell_type": "code",
   "execution_count": null,
   "metadata": {},
   "outputs": [],
   "source": [
    "def f(x):\n",
    "    return x**2 - 3 * x + 2"
   ]
  },
  {
   "cell_type": "code",
   "execution_count": null,
   "metadata": {},
   "outputs": [],
   "source": [
    "result = f(10)\n",
    "print(result)"
   ]
  },
  {
   "cell_type": "markdown",
   "metadata": {},
   "source": [
    "$\\displaystyle f(x, y, z) = \\frac12 x^2 + 4y^3 - 7z + 2$"
   ]
  },
  {
   "cell_type": "code",
   "execution_count": null,
   "metadata": {},
   "outputs": [],
   "source": [
    "def f(x, y, z):\n",
    "    return x**2 / 2 + 4 * y**3 - 7 * z + 2"
   ]
  },
  {
   "cell_type": "code",
   "execution_count": null,
   "metadata": {},
   "outputs": [],
   "source": [
    "result = f(1, 2, 3)\n",
    "print(result)"
   ]
  },
  {
   "cell_type": "code",
   "execution_count": null,
   "metadata": {},
   "outputs": [],
   "source": [
    "def get_sum_and_difference(a, b):\n",
    "    sum_value = a + b\n",
    "    difference = a - b\n",
    "\n",
    "    return sum_value, difference"
   ]
  },
  {
   "cell_type": "code",
   "execution_count": null,
   "metadata": {},
   "outputs": [],
   "source": [
    "sum_value, difference = get_sum_and_difference(1, 2)\n",
    "print(sum_value, difference)"
   ]
  },
  {
   "cell_type": "markdown",
   "metadata": {},
   "source": [
    "### Type hints\n",
    "\n",
    "Dentro do tópico de funções mas não limitado à ele. Funcionalidade **opcional**\n",
    "que pode, controversamente, melhorar a experiência de desenvolvimento. \n",
    "\n",
    "#### Algumas vantagens:\n",
    "1. Ajuda o IDE a fornecer informações relevantes\n",
    "    - Sugestões automáticas\n",
    "    - Capturar erros antes que eles ocorram\n",
    "2. Força o desenvolvedor a ser intencional sobre o tipo de dado que está sendo\n",
    "utilizado\n",
    "\n",
    "#### Algumas desvantagens:\n",
    "1. Pode acabar sendo uma tarefa complexa\n",
    "2. Nem toda biblioteca define tipos"
   ]
  },
  {
   "cell_type": "code",
   "execution_count": null,
   "metadata": {},
   "outputs": [],
   "source": [
    "def f(x: float) -> float:\n",
    "    return x**2 - 3 * x + 2"
   ]
  },
  {
   "cell_type": "code",
   "execution_count": null,
   "metadata": {},
   "outputs": [],
   "source": [
    "user = {\n",
    "    \"name\": \"Caio\",\n",
    "    \"age\": 22,\n",
    "    \"email\": \"caio@email.com\",\n",
    "}\n",
    "\n",
    "\n",
    "def user_is_valid(user):\n",
    "    name_is_capitalized = all(\n",
    "        [\n",
    "            user[\"name\"][0].isupper(),\n",
    "            user[\"name\"][1:].islower(),\n",
    "        ]\n",
    "    )\n",
    "\n",
    "    email_is_valid = all(\n",
    "        [\n",
    "            \"@\" in user[\"email\"],\n",
    "            user[\"email\"].endswith(\".com\"),\n",
    "        ]\n",
    "    )\n",
    "\n",
    "    age_is_positive = user[\"age\"] > 0\n",
    "\n",
    "    is_valid = all(\n",
    "        [\n",
    "            name_is_capitalized,\n",
    "            email_is_valid,\n",
    "            age_is_positive,\n",
    "        ]\n",
    "    )\n",
    "\n",
    "    if is_valid:\n",
    "        return True\n",
    "\n",
    "    return False"
   ]
  },
  {
   "cell_type": "code",
   "execution_count": null,
   "metadata": {},
   "outputs": [],
   "source": [
    "print(user_is_valid(user))"
   ]
  },
  {
   "cell_type": "code",
   "execution_count": null,
   "metadata": {},
   "outputs": [],
   "source": [
    "def name_is_capitalized(name: str) -> bool:\n",
    "    if name[0].isupper() and name[1:].islower():\n",
    "        return True\n",
    "\n",
    "    return False\n",
    "\n",
    "\n",
    "def email_is_valid(email: str) -> bool:\n",
    "    email_not_valid = any(\n",
    "        [\n",
    "            \"@\" not in email,\n",
    "            not email.endswith(\".com\"),\n",
    "        ]\n",
    "    )\n",
    "\n",
    "    if email_not_valid:\n",
    "        return False\n",
    "\n",
    "    return True\n",
    "\n",
    "\n",
    "def user_is_valid(user: dict[str, str | int]) -> bool:\n",
    "    is_valid = all(\n",
    "        [\n",
    "            name_is_capitalized(user[\"name\"]),\n",
    "            user[\"age\"] > 0,\n",
    "            email_is_valid(user[\"email\"]),\n",
    "        ]\n",
    "    )\n",
    "\n",
    "    if is_valid:\n",
    "        return True\n",
    "\n",
    "    return False"
   ]
  },
  {
   "cell_type": "code",
   "execution_count": null,
   "metadata": {},
   "outputs": [],
   "source": [
    "print(user_is_valid(user))"
   ]
  },
  {
   "cell_type": "markdown",
   "metadata": {},
   "source": [
    "## Compreensões\n",
    "\n",
    "Padrão comum"
   ]
  },
  {
   "cell_type": "code",
   "execution_count": null,
   "metadata": {},
   "outputs": [],
   "source": [
    "squared_numbers = []\n",
    "\n",
    "for n in range(1, 11):\n",
    "    squared_numbers.append(n**2)\n",
    "\n",
    "print(squared_numbers)"
   ]
  },
  {
   "cell_type": "markdown",
   "metadata": {},
   "source": [
    "Equivalente utilizando compreensão de listas"
   ]
  },
  {
   "cell_type": "code",
   "execution_count": null,
   "metadata": {},
   "outputs": [],
   "source": [
    "squared_numbers = [n**2 for n in range(1, 11)]  # n^2 para todo n entre [1, 11)\n",
    "print(squared_numbers)"
   ]
  },
  {
   "cell_type": "markdown",
   "metadata": {},
   "source": [
    "Pode combinar com condicionais."
   ]
  },
  {
   "cell_type": "code",
   "execution_count": null,
   "metadata": {},
   "outputs": [],
   "source": [
    "squared_even_numbers = []\n",
    "\n",
    "for n in range(1, 11):\n",
    "    if n % 2 == 0:\n",
    "        squared_even_numbers.append(n**2)\n",
    "\n",
    "print(squared_even_numbers)"
   ]
  },
  {
   "cell_type": "code",
   "execution_count": null,
   "metadata": {},
   "outputs": [],
   "source": [
    "# n^2 para todo n entre [1, 11) se n for par\n",
    "squared_even_numbers = [n**2 for n in range(1, 11) if n % 2 == 0]\n",
    "print(squared_even_numbers)"
   ]
  },
  {
   "cell_type": "markdown",
   "metadata": {},
   "source": [
    "Funciona com `dict` e `set` também"
   ]
  },
  {
   "cell_type": "code",
   "execution_count": null,
   "metadata": {},
   "outputs": [],
   "source": [
    "names = [\"Mordecai\", \"Rigby\", \"Benson\", \"Carlos Gomes Barbosa\"]\n",
    "jobs = [\"Funcionário do parque\", \"Funcionário do parque\", \"Gerente do parque\", \"Jogador de fliperama\"]\n",
    "\n",
    "employees = {name: job for name, job in zip(names, jobs)}\n",
    "print(employees)"
   ]
  },
  {
   "cell_type": "code",
   "execution_count": null,
   "metadata": {},
   "outputs": [],
   "source": [
    "even_numbers = {n for n in range(1, 11) if n % 2 == 0}\n",
    "print(even_numbers)"
   ]
  },
  {
   "cell_type": "markdown",
   "metadata": {},
   "source": [
    "## Leitura de arquivos"
   ]
  },
  {
   "cell_type": "code",
   "execution_count": null,
   "metadata": {},
   "outputs": [],
   "source": [
    "# Não faça desse jeito\n",
    "file = open('test.txt', 'w')\n",
    "file.write('Hello world!')\n",
    "file.close()"
   ]
  },
  {
   "cell_type": "markdown",
   "metadata": {},
   "source": [
    "## Context managers\n",
    "\n",
    "Tudo que precisa abrir e depois fechar pode ter um context manager. Ele é\n",
    "acessado com o `with` e garante que o arquivo seja fechado após o uso."
   ]
  },
  {
   "cell_type": "code",
   "execution_count": null,
   "metadata": {},
   "outputs": [],
   "source": [
    "with open('test.txt', 'r') as file:\n",
    "    content = file.read()\n",
    "\n",
    "print(content)"
   ]
  },
  {
   "cell_type": "code",
   "execution_count": null,
   "metadata": {},
   "outputs": [],
   "source": [
    "with open('test.txt', 'a') as file:\n",
    "    for n in range(10):\n",
    "        file.write(f'{n}\\n')"
   ]
  },
  {
   "cell_type": "code",
   "execution_count": null,
   "metadata": {},
   "outputs": [],
   "source": [
    "with open('test.txt', 'r') as file:\n",
    "    for line in file.readlines():\n",
    "        print(line, end='')"
   ]
  },
  {
   "cell_type": "markdown",
   "metadata": {},
   "source": [
    "## A biblioteca padrão do Python\n",
    "\n",
    "Muitas das funcionalidades não estão presentes no código por padrão e precisam\n",
    "ser importados. Essas funcionalidades são divididas em módulos e fazem parte da\n",
    "chamada biblioteca padrão.\n",
    "\n",
    "A quantidade de recursos presentes nessas bibliotecas é imenso e cabe uma aula\n",
    "só delas, esta seção é apenas expositiva."
   ]
  },
  {
   "cell_type": "code",
   "execution_count": null,
   "metadata": {},
   "outputs": [],
   "source": [
    "# Sintaxe de importação\n",
    "import math\n",
    "import cmath\n",
    "\n",
    "\n",
    "def complex_exp(x):\n",
    "    return cmath.exp(1j * x)\n",
    "\n",
    "\n",
    "result = complex_exp(math.pi)\n",
    "print(f\"{result:.2f}\")"
   ]
  },
  {
   "cell_type": "code",
   "execution_count": null,
   "metadata": {},
   "outputs": [],
   "source": [
    "import math as m  # Apelido\n",
    "\n",
    "print(m.log(1))"
   ]
  },
  {
   "cell_type": "code",
   "execution_count": null,
   "metadata": {},
   "outputs": [],
   "source": [
    "# Importar apenas uma função\n",
    "from functools import partial\n",
    "\n",
    "\n",
    "def add(a: int, b: int) -> int:\n",
    "    return a + b\n",
    "\n",
    "\n",
    "add_2 = partial(add, b=2)\n",
    "\n",
    "print(add_2(2))"
   ]
  },
  {
   "cell_type": "code",
   "execution_count": null,
   "metadata": {},
   "outputs": [],
   "source": [
    "from pathlib import Path\n",
    "\n",
    "home = Path.home()\n",
    "print(home)"
   ]
  },
  {
   "cell_type": "markdown",
   "metadata": {},
   "source": [
    "## Classes\n",
    "\n",
    "Mais espeficicamente `dataclass`."
   ]
  },
  {
   "cell_type": "code",
   "execution_count": null,
   "metadata": {},
   "outputs": [],
   "source": []
  }
 ],
 "metadata": {
  "kernelspec": {
   "display_name": ".venv",
   "language": "python",
   "name": "python3"
  },
  "language_info": {
   "codemirror_mode": {
    "name": "ipython",
    "version": 3
   },
   "file_extension": ".py",
   "mimetype": "text/x-python",
   "name": "python",
   "nbconvert_exporter": "python",
   "pygments_lexer": "ipython3",
   "version": "3.11.5"
  },
  "orig_nbformat": 4
 },
 "nbformat": 4,
 "nbformat_minor": 2
}
